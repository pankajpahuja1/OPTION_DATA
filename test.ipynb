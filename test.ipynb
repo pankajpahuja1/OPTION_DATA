{
 "metadata": {
  "language_info": {
   "codemirror_mode": {
    "name": "ipython",
    "version": 3
   },
   "file_extension": ".py",
   "mimetype": "text/x-python",
   "name": "python",
   "nbconvert_exporter": "python",
   "pygments_lexer": "ipython3",
   "version": "3.7.4"
  },
  "orig_nbformat": 2,
  "kernelspec": {
   "name": "python374jvsc74a57bd0dca0ade3e726a953b501b15e8e990130d2b7799f14cfd9f4271676035ebe5511",
   "display_name": "Python 3.7.4 64-bit ('base': conda)"
  }
 },
 "nbformat": 4,
 "nbformat_minor": 2,
 "cells": [
  {
   "cell_type": "code",
   "execution_count": 3,
   "metadata": {},
   "outputs": [
    {
     "output_type": "execute_result",
     "data": {
      "text/plain": [
       "                     13350 13400 13450 13500 13550 13600 13650 13700 13750  \\\n",
       "(13350, 01-Jan-2021)   NaN   NaN   NaN   NaN   NaN   NaN   NaN   NaN   NaN   \n",
       "(13400, 01-Jan-2021)   NaN   NaN   NaN   NaN   NaN   NaN   NaN   NaN   NaN   \n",
       "(13450, 01-Jan-2021)   NaN   NaN   NaN   NaN   NaN   NaN   NaN   NaN   NaN   \n",
       "(13500, 01-Jan-2021)   NaN   NaN   NaN   NaN   NaN   NaN   NaN   NaN   NaN   \n",
       "(13550, 01-Jan-2021)   NaN   NaN   NaN   NaN   NaN   NaN   NaN   NaN   NaN   \n",
       "...                    ...   ...   ...   ...   ...   ...   ...   ...   ...   \n",
       "(13100, 28-Jan-2021)   NaN   NaN   NaN   NaN   NaN   NaN   NaN   NaN   NaN   \n",
       "(13150, 28-Jan-2021)   NaN   NaN   NaN   NaN   NaN   NaN   NaN   NaN   NaN   \n",
       "(13200, 28-Jan-2021)   NaN   NaN   NaN   NaN   NaN   NaN   NaN   NaN   NaN   \n",
       "(13250, 28-Jan-2021)   NaN   NaN   NaN   NaN   NaN   NaN   NaN   NaN   NaN   \n",
       "(13300, 28-Jan-2021)   NaN   NaN   NaN   NaN   NaN   NaN   NaN   NaN   NaN   \n",
       "\n",
       "                     13800  ... 15700 15750 15800 15850 15900 15950 16000  \\\n",
       "(13350, 01-Jan-2021)   NaN  ...   NaN   NaN   NaN   NaN   NaN   NaN   NaN   \n",
       "(13400, 01-Jan-2021)   NaN  ...   NaN   NaN   NaN   NaN   NaN   NaN   NaN   \n",
       "(13450, 01-Jan-2021)   NaN  ...   NaN   NaN   NaN   NaN   NaN   NaN   NaN   \n",
       "(13500, 01-Jan-2021)   NaN  ...   NaN   NaN   NaN   NaN   NaN   NaN   NaN   \n",
       "(13550, 01-Jan-2021)   NaN  ...   NaN   NaN   NaN   NaN   NaN   NaN   NaN   \n",
       "...                    ...  ...   ...   ...   ...   ...   ...   ...   ...   \n",
       "(13100, 28-Jan-2021)   NaN  ...   NaN   NaN   NaN   NaN   NaN   NaN   NaN   \n",
       "(13150, 28-Jan-2021)   NaN  ...   NaN   NaN   NaN   NaN   NaN   NaN   NaN   \n",
       "(13200, 28-Jan-2021)   NaN  ...   NaN   NaN   NaN   NaN   NaN   NaN   NaN   \n",
       "(13250, 28-Jan-2021)   NaN  ...   NaN   NaN   NaN   NaN   NaN   NaN   NaN   \n",
       "(13300, 28-Jan-2021)   NaN  ...   NaN   NaN   NaN   NaN   NaN   NaN   NaN   \n",
       "\n",
       "                     16050 16100 16150  \n",
       "(13350, 01-Jan-2021)   NaN   NaN   NaN  \n",
       "(13400, 01-Jan-2021)   NaN   NaN   NaN  \n",
       "(13450, 01-Jan-2021)   NaN   NaN   NaN  \n",
       "(13500, 01-Jan-2021)   NaN   NaN   NaN  \n",
       "(13550, 01-Jan-2021)   NaN   NaN   NaN  \n",
       "...                    ...   ...   ...  \n",
       "(13100, 28-Jan-2021)   NaN   NaN   NaN  \n",
       "(13150, 28-Jan-2021)   NaN   NaN   NaN  \n",
       "(13200, 28-Jan-2021)   NaN   NaN   NaN  \n",
       "(13250, 28-Jan-2021)   NaN   NaN   NaN  \n",
       "(13300, 28-Jan-2021)   NaN   NaN   NaN  \n",
       "\n",
       "[2219 rows x 121 columns]"
      ],
      "text/html": "<div>\n<style scoped>\n    .dataframe tbody tr th:only-of-type {\n        vertical-align: middle;\n    }\n\n    .dataframe tbody tr th {\n        vertical-align: top;\n    }\n\n    .dataframe thead th {\n        text-align: right;\n    }\n</style>\n<table border=\"1\" class=\"dataframe\">\n  <thead>\n    <tr style=\"text-align: right;\">\n      <th></th>\n      <th>13350</th>\n      <th>13400</th>\n      <th>13450</th>\n      <th>13500</th>\n      <th>13550</th>\n      <th>13600</th>\n      <th>13650</th>\n      <th>13700</th>\n      <th>13750</th>\n      <th>13800</th>\n      <th>...</th>\n      <th>15700</th>\n      <th>15750</th>\n      <th>15800</th>\n      <th>15850</th>\n      <th>15900</th>\n      <th>15950</th>\n      <th>16000</th>\n      <th>16050</th>\n      <th>16100</th>\n      <th>16150</th>\n    </tr>\n  </thead>\n  <tbody>\n    <tr>\n      <td>(13350, 01-Jan-2021)</td>\n      <td>NaN</td>\n      <td>NaN</td>\n      <td>NaN</td>\n      <td>NaN</td>\n      <td>NaN</td>\n      <td>NaN</td>\n      <td>NaN</td>\n      <td>NaN</td>\n      <td>NaN</td>\n      <td>NaN</td>\n      <td>...</td>\n      <td>NaN</td>\n      <td>NaN</td>\n      <td>NaN</td>\n      <td>NaN</td>\n      <td>NaN</td>\n      <td>NaN</td>\n      <td>NaN</td>\n      <td>NaN</td>\n      <td>NaN</td>\n      <td>NaN</td>\n    </tr>\n    <tr>\n      <td>(13400, 01-Jan-2021)</td>\n      <td>NaN</td>\n      <td>NaN</td>\n      <td>NaN</td>\n      <td>NaN</td>\n      <td>NaN</td>\n      <td>NaN</td>\n      <td>NaN</td>\n      <td>NaN</td>\n      <td>NaN</td>\n      <td>NaN</td>\n      <td>...</td>\n      <td>NaN</td>\n      <td>NaN</td>\n      <td>NaN</td>\n      <td>NaN</td>\n      <td>NaN</td>\n      <td>NaN</td>\n      <td>NaN</td>\n      <td>NaN</td>\n      <td>NaN</td>\n      <td>NaN</td>\n    </tr>\n    <tr>\n      <td>(13450, 01-Jan-2021)</td>\n      <td>NaN</td>\n      <td>NaN</td>\n      <td>NaN</td>\n      <td>NaN</td>\n      <td>NaN</td>\n      <td>NaN</td>\n      <td>NaN</td>\n      <td>NaN</td>\n      <td>NaN</td>\n      <td>NaN</td>\n      <td>...</td>\n      <td>NaN</td>\n      <td>NaN</td>\n      <td>NaN</td>\n      <td>NaN</td>\n      <td>NaN</td>\n      <td>NaN</td>\n      <td>NaN</td>\n      <td>NaN</td>\n      <td>NaN</td>\n      <td>NaN</td>\n    </tr>\n    <tr>\n      <td>(13500, 01-Jan-2021)</td>\n      <td>NaN</td>\n      <td>NaN</td>\n      <td>NaN</td>\n      <td>NaN</td>\n      <td>NaN</td>\n      <td>NaN</td>\n      <td>NaN</td>\n      <td>NaN</td>\n      <td>NaN</td>\n      <td>NaN</td>\n      <td>...</td>\n      <td>NaN</td>\n      <td>NaN</td>\n      <td>NaN</td>\n      <td>NaN</td>\n      <td>NaN</td>\n      <td>NaN</td>\n      <td>NaN</td>\n      <td>NaN</td>\n      <td>NaN</td>\n      <td>NaN</td>\n    </tr>\n    <tr>\n      <td>(13550, 01-Jan-2021)</td>\n      <td>NaN</td>\n      <td>NaN</td>\n      <td>NaN</td>\n      <td>NaN</td>\n      <td>NaN</td>\n      <td>NaN</td>\n      <td>NaN</td>\n      <td>NaN</td>\n      <td>NaN</td>\n      <td>NaN</td>\n      <td>...</td>\n      <td>NaN</td>\n      <td>NaN</td>\n      <td>NaN</td>\n      <td>NaN</td>\n      <td>NaN</td>\n      <td>NaN</td>\n      <td>NaN</td>\n      <td>NaN</td>\n      <td>NaN</td>\n      <td>NaN</td>\n    </tr>\n    <tr>\n      <td>...</td>\n      <td>...</td>\n      <td>...</td>\n      <td>...</td>\n      <td>...</td>\n      <td>...</td>\n      <td>...</td>\n      <td>...</td>\n      <td>...</td>\n      <td>...</td>\n      <td>...</td>\n      <td>...</td>\n      <td>...</td>\n      <td>...</td>\n      <td>...</td>\n      <td>...</td>\n      <td>...</td>\n      <td>...</td>\n      <td>...</td>\n      <td>...</td>\n      <td>...</td>\n      <td>...</td>\n    </tr>\n    <tr>\n      <td>(13100, 28-Jan-2021)</td>\n      <td>NaN</td>\n      <td>NaN</td>\n      <td>NaN</td>\n      <td>NaN</td>\n      <td>NaN</td>\n      <td>NaN</td>\n      <td>NaN</td>\n      <td>NaN</td>\n      <td>NaN</td>\n      <td>NaN</td>\n      <td>...</td>\n      <td>NaN</td>\n      <td>NaN</td>\n      <td>NaN</td>\n      <td>NaN</td>\n      <td>NaN</td>\n      <td>NaN</td>\n      <td>NaN</td>\n      <td>NaN</td>\n      <td>NaN</td>\n      <td>NaN</td>\n    </tr>\n    <tr>\n      <td>(13150, 28-Jan-2021)</td>\n      <td>NaN</td>\n      <td>NaN</td>\n      <td>NaN</td>\n      <td>NaN</td>\n      <td>NaN</td>\n      <td>NaN</td>\n      <td>NaN</td>\n      <td>NaN</td>\n      <td>NaN</td>\n      <td>NaN</td>\n      <td>...</td>\n      <td>NaN</td>\n      <td>NaN</td>\n      <td>NaN</td>\n      <td>NaN</td>\n      <td>NaN</td>\n      <td>NaN</td>\n      <td>NaN</td>\n      <td>NaN</td>\n      <td>NaN</td>\n      <td>NaN</td>\n    </tr>\n    <tr>\n      <td>(13200, 28-Jan-2021)</td>\n      <td>NaN</td>\n      <td>NaN</td>\n      <td>NaN</td>\n      <td>NaN</td>\n      <td>NaN</td>\n      <td>NaN</td>\n      <td>NaN</td>\n      <td>NaN</td>\n      <td>NaN</td>\n      <td>NaN</td>\n      <td>...</td>\n      <td>NaN</td>\n      <td>NaN</td>\n      <td>NaN</td>\n      <td>NaN</td>\n      <td>NaN</td>\n      <td>NaN</td>\n      <td>NaN</td>\n      <td>NaN</td>\n      <td>NaN</td>\n      <td>NaN</td>\n    </tr>\n    <tr>\n      <td>(13250, 28-Jan-2021)</td>\n      <td>NaN</td>\n      <td>NaN</td>\n      <td>NaN</td>\n      <td>NaN</td>\n      <td>NaN</td>\n      <td>NaN</td>\n      <td>NaN</td>\n      <td>NaN</td>\n      <td>NaN</td>\n      <td>NaN</td>\n      <td>...</td>\n      <td>NaN</td>\n      <td>NaN</td>\n      <td>NaN</td>\n      <td>NaN</td>\n      <td>NaN</td>\n      <td>NaN</td>\n      <td>NaN</td>\n      <td>NaN</td>\n      <td>NaN</td>\n      <td>NaN</td>\n    </tr>\n    <tr>\n      <td>(13300, 28-Jan-2021)</td>\n      <td>NaN</td>\n      <td>NaN</td>\n      <td>NaN</td>\n      <td>NaN</td>\n      <td>NaN</td>\n      <td>NaN</td>\n      <td>NaN</td>\n      <td>NaN</td>\n      <td>NaN</td>\n      <td>NaN</td>\n      <td>...</td>\n      <td>NaN</td>\n      <td>NaN</td>\n      <td>NaN</td>\n      <td>NaN</td>\n      <td>NaN</td>\n      <td>NaN</td>\n      <td>NaN</td>\n      <td>NaN</td>\n      <td>NaN</td>\n      <td>NaN</td>\n    </tr>\n  </tbody>\n</table>\n<p>2219 rows × 121 columns</p>\n</div>"
     },
     "metadata": {},
     "execution_count": 3
    }
   ],
   "source": [
    "import pandas as pd;\n",
    "df=pd.read_csv(\"OPTIDX_NIFTY_PE_01-Jan-2021_TO_28-Jan-2021.csv\",index_col=['Strike Price','Date'])\n",
    "df=df.drop(['Symbol','Open','High', 'Low', 'Close', 'LTP','No. of contracts','Turnover in Lacs', 'Premium Turnover in Lacs', 'Open Int',\n",
    "       'Change in OI'],axis=1)\n",
    "date=df.index.get_level_values(0).unique().tolist()\n",
    "list(date)\n",
    "strike=df.index.unique()\n",
    "list(strike)\n",
    "settle=df['Settle Price']\n",
    "list(strike)\n",
    "#data not working\n",
    "k=pd.DataFrame(data=df['Settle Price'],columns=list(date),index=list(strike))\n",
    "k\n",
    "# for dt in date:\n",
    "#     for strikep in df.index:\n",
    "        \n",
    "#          if dt in df.at[strikep,'Date']:\n",
    "#              for setle in settle:\n",
    "#                 k.at[strikep,dt]=df.at[strikep,'Settle Price']\n",
    "\n"
   ]
  },
  {
   "cell_type": "code",
   "execution_count": 9,
   "metadata": {},
   "outputs": [],
   "source": [
    "# for i,j in k.iterrows():\n",
    "#     print(j)\n",
    "#     break"
   ]
  },
  {
   "cell_type": "code",
   "execution_count": 10,
   "metadata": {},
   "outputs": [],
   "source": [
    "# settle=df['Settle Price']\n",
    "# list(strike)"
   ]
  },
  {
   "cell_type": "code",
   "execution_count": 11,
   "metadata": {
    "tags": []
   },
   "outputs": [],
   "source": [
    "# for dt in date:\n",
    "#     for strikep in df.index:\n",
    "#         for setle in settle:\n",
    "#             print(setle)"
   ]
  },
  {
   "cell_type": "code",
   "execution_count": 67,
   "metadata": {},
   "outputs": [],
   "source": [
    "# df[['Settle Price','Date']]"
   ]
  },
  {
   "cell_type": "code",
   "execution_count": 66,
   "metadata": {},
   "outputs": [],
   "source": [
    "# df.loc[[13350,14000],['Date','Settle Price']]"
   ]
  },
  {
   "cell_type": "code",
   "execution_count": 65,
   "metadata": {
    "tags": []
   },
   "outputs": [],
   "source": [
    "# for i in df.index.unique():\n",
    "#     print(df.loc[[i,'Date']])\n",
    "# print(\"hi\")"
   ]
  },
  {
   "cell_type": "code",
   "execution_count": 100,
   "metadata": {},
   "outputs": [
    {
     "output_type": "execute_result",
     "data": {
      "text/plain": [
       "75.9"
      ]
     },
     "metadata": {},
     "execution_count": 100
    }
   ],
   "source": [
    "z=df.loc[[(13350,'01-Jan-2021')],'Settle Price']\n",
    "type(z)\n",
    "z[0]"
   ]
  },
  {
   "cell_type": "code",
   "execution_count": 4,
   "metadata": {},
   "outputs": [],
   "source": [
    "strikep=df.index.get_level_values(0).unique().tolist()\n",
    "date=df.index.get_level_values(1).unique().tolist()"
   ]
  },
  {
   "cell_type": "code",
   "execution_count": 5,
   "metadata": {},
   "outputs": [
    {
     "output_type": "execute_result",
     "data": {
      "text/plain": [
       "      01-Jan-2021 04-Jan-2021 05-Jan-2021 06-Jan-2021 07-Jan-2021 08-Jan-2021  \\\n",
       "13350         NaN         NaN         NaN         NaN         NaN         NaN   \n",
       "13400         NaN         NaN         NaN         NaN         NaN         NaN   \n",
       "13450         NaN         NaN         NaN         NaN         NaN         NaN   \n",
       "13500         NaN         NaN         NaN         NaN         NaN         NaN   \n",
       "13550         NaN         NaN         NaN         NaN         NaN         NaN   \n",
       "...           ...         ...         ...         ...         ...         ...   \n",
       "15950         NaN         NaN         NaN         NaN         NaN         NaN   \n",
       "16000         NaN         NaN         NaN         NaN         NaN         NaN   \n",
       "16050         NaN         NaN         NaN         NaN         NaN         NaN   \n",
       "16100         NaN         NaN         NaN         NaN         NaN         NaN   \n",
       "16150         NaN         NaN         NaN         NaN         NaN         NaN   \n",
       "\n",
       "      11-Jan-2021 12-Jan-2021 13-Jan-2021 14-Jan-2021 15-Jan-2021 18-Jan-2021  \\\n",
       "13350         NaN         NaN         NaN         NaN         NaN         NaN   \n",
       "13400         NaN         NaN         NaN         NaN         NaN         NaN   \n",
       "13450         NaN         NaN         NaN         NaN         NaN         NaN   \n",
       "13500         NaN         NaN         NaN         NaN         NaN         NaN   \n",
       "13550         NaN         NaN         NaN         NaN         NaN         NaN   \n",
       "...           ...         ...         ...         ...         ...         ...   \n",
       "15950         NaN         NaN         NaN         NaN         NaN         NaN   \n",
       "16000         NaN         NaN         NaN         NaN         NaN         NaN   \n",
       "16050         NaN         NaN         NaN         NaN         NaN         NaN   \n",
       "16100         NaN         NaN         NaN         NaN         NaN         NaN   \n",
       "16150         NaN         NaN         NaN         NaN         NaN         NaN   \n",
       "\n",
       "      19-Jan-2021 20-Jan-2021 21-Jan-2021 22-Jan-2021 25-Jan-2021 27-Jan-2021  \\\n",
       "13350         NaN         NaN         NaN         NaN         NaN         NaN   \n",
       "13400         NaN         NaN         NaN         NaN         NaN         NaN   \n",
       "13450         NaN         NaN         NaN         NaN         NaN         NaN   \n",
       "13500         NaN         NaN         NaN         NaN         NaN         NaN   \n",
       "13550         NaN         NaN         NaN         NaN         NaN         NaN   \n",
       "...           ...         ...         ...         ...         ...         ...   \n",
       "15950         NaN         NaN         NaN         NaN         NaN         NaN   \n",
       "16000         NaN         NaN         NaN         NaN         NaN         NaN   \n",
       "16050         NaN         NaN         NaN         NaN         NaN         NaN   \n",
       "16100         NaN         NaN         NaN         NaN         NaN         NaN   \n",
       "16150         NaN         NaN         NaN         NaN         NaN         NaN   \n",
       "\n",
       "      28-Jan-2021  \n",
       "13350         NaN  \n",
       "13400         NaN  \n",
       "13450         NaN  \n",
       "13500         NaN  \n",
       "13550         NaN  \n",
       "...           ...  \n",
       "15950         NaN  \n",
       "16000         NaN  \n",
       "16050         NaN  \n",
       "16100         NaN  \n",
       "16150         NaN  \n",
       "\n",
       "[121 rows x 19 columns]"
      ],
      "text/html": "<div>\n<style scoped>\n    .dataframe tbody tr th:only-of-type {\n        vertical-align: middle;\n    }\n\n    .dataframe tbody tr th {\n        vertical-align: top;\n    }\n\n    .dataframe thead th {\n        text-align: right;\n    }\n</style>\n<table border=\"1\" class=\"dataframe\">\n  <thead>\n    <tr style=\"text-align: right;\">\n      <th></th>\n      <th>01-Jan-2021</th>\n      <th>04-Jan-2021</th>\n      <th>05-Jan-2021</th>\n      <th>06-Jan-2021</th>\n      <th>07-Jan-2021</th>\n      <th>08-Jan-2021</th>\n      <th>11-Jan-2021</th>\n      <th>12-Jan-2021</th>\n      <th>13-Jan-2021</th>\n      <th>14-Jan-2021</th>\n      <th>15-Jan-2021</th>\n      <th>18-Jan-2021</th>\n      <th>19-Jan-2021</th>\n      <th>20-Jan-2021</th>\n      <th>21-Jan-2021</th>\n      <th>22-Jan-2021</th>\n      <th>25-Jan-2021</th>\n      <th>27-Jan-2021</th>\n      <th>28-Jan-2021</th>\n    </tr>\n  </thead>\n  <tbody>\n    <tr>\n      <td>13350</td>\n      <td>NaN</td>\n      <td>NaN</td>\n      <td>NaN</td>\n      <td>NaN</td>\n      <td>NaN</td>\n      <td>NaN</td>\n      <td>NaN</td>\n      <td>NaN</td>\n      <td>NaN</td>\n      <td>NaN</td>\n      <td>NaN</td>\n      <td>NaN</td>\n      <td>NaN</td>\n      <td>NaN</td>\n      <td>NaN</td>\n      <td>NaN</td>\n      <td>NaN</td>\n      <td>NaN</td>\n      <td>NaN</td>\n    </tr>\n    <tr>\n      <td>13400</td>\n      <td>NaN</td>\n      <td>NaN</td>\n      <td>NaN</td>\n      <td>NaN</td>\n      <td>NaN</td>\n      <td>NaN</td>\n      <td>NaN</td>\n      <td>NaN</td>\n      <td>NaN</td>\n      <td>NaN</td>\n      <td>NaN</td>\n      <td>NaN</td>\n      <td>NaN</td>\n      <td>NaN</td>\n      <td>NaN</td>\n      <td>NaN</td>\n      <td>NaN</td>\n      <td>NaN</td>\n      <td>NaN</td>\n    </tr>\n    <tr>\n      <td>13450</td>\n      <td>NaN</td>\n      <td>NaN</td>\n      <td>NaN</td>\n      <td>NaN</td>\n      <td>NaN</td>\n      <td>NaN</td>\n      <td>NaN</td>\n      <td>NaN</td>\n      <td>NaN</td>\n      <td>NaN</td>\n      <td>NaN</td>\n      <td>NaN</td>\n      <td>NaN</td>\n      <td>NaN</td>\n      <td>NaN</td>\n      <td>NaN</td>\n      <td>NaN</td>\n      <td>NaN</td>\n      <td>NaN</td>\n    </tr>\n    <tr>\n      <td>13500</td>\n      <td>NaN</td>\n      <td>NaN</td>\n      <td>NaN</td>\n      <td>NaN</td>\n      <td>NaN</td>\n      <td>NaN</td>\n      <td>NaN</td>\n      <td>NaN</td>\n      <td>NaN</td>\n      <td>NaN</td>\n      <td>NaN</td>\n      <td>NaN</td>\n      <td>NaN</td>\n      <td>NaN</td>\n      <td>NaN</td>\n      <td>NaN</td>\n      <td>NaN</td>\n      <td>NaN</td>\n      <td>NaN</td>\n    </tr>\n    <tr>\n      <td>13550</td>\n      <td>NaN</td>\n      <td>NaN</td>\n      <td>NaN</td>\n      <td>NaN</td>\n      <td>NaN</td>\n      <td>NaN</td>\n      <td>NaN</td>\n      <td>NaN</td>\n      <td>NaN</td>\n      <td>NaN</td>\n      <td>NaN</td>\n      <td>NaN</td>\n      <td>NaN</td>\n      <td>NaN</td>\n      <td>NaN</td>\n      <td>NaN</td>\n      <td>NaN</td>\n      <td>NaN</td>\n      <td>NaN</td>\n    </tr>\n    <tr>\n      <td>...</td>\n      <td>...</td>\n      <td>...</td>\n      <td>...</td>\n      <td>...</td>\n      <td>...</td>\n      <td>...</td>\n      <td>...</td>\n      <td>...</td>\n      <td>...</td>\n      <td>...</td>\n      <td>...</td>\n      <td>...</td>\n      <td>...</td>\n      <td>...</td>\n      <td>...</td>\n      <td>...</td>\n      <td>...</td>\n      <td>...</td>\n      <td>...</td>\n    </tr>\n    <tr>\n      <td>15950</td>\n      <td>NaN</td>\n      <td>NaN</td>\n      <td>NaN</td>\n      <td>NaN</td>\n      <td>NaN</td>\n      <td>NaN</td>\n      <td>NaN</td>\n      <td>NaN</td>\n      <td>NaN</td>\n      <td>NaN</td>\n      <td>NaN</td>\n      <td>NaN</td>\n      <td>NaN</td>\n      <td>NaN</td>\n      <td>NaN</td>\n      <td>NaN</td>\n      <td>NaN</td>\n      <td>NaN</td>\n      <td>NaN</td>\n    </tr>\n    <tr>\n      <td>16000</td>\n      <td>NaN</td>\n      <td>NaN</td>\n      <td>NaN</td>\n      <td>NaN</td>\n      <td>NaN</td>\n      <td>NaN</td>\n      <td>NaN</td>\n      <td>NaN</td>\n      <td>NaN</td>\n      <td>NaN</td>\n      <td>NaN</td>\n      <td>NaN</td>\n      <td>NaN</td>\n      <td>NaN</td>\n      <td>NaN</td>\n      <td>NaN</td>\n      <td>NaN</td>\n      <td>NaN</td>\n      <td>NaN</td>\n    </tr>\n    <tr>\n      <td>16050</td>\n      <td>NaN</td>\n      <td>NaN</td>\n      <td>NaN</td>\n      <td>NaN</td>\n      <td>NaN</td>\n      <td>NaN</td>\n      <td>NaN</td>\n      <td>NaN</td>\n      <td>NaN</td>\n      <td>NaN</td>\n      <td>NaN</td>\n      <td>NaN</td>\n      <td>NaN</td>\n      <td>NaN</td>\n      <td>NaN</td>\n      <td>NaN</td>\n      <td>NaN</td>\n      <td>NaN</td>\n      <td>NaN</td>\n    </tr>\n    <tr>\n      <td>16100</td>\n      <td>NaN</td>\n      <td>NaN</td>\n      <td>NaN</td>\n      <td>NaN</td>\n      <td>NaN</td>\n      <td>NaN</td>\n      <td>NaN</td>\n      <td>NaN</td>\n      <td>NaN</td>\n      <td>NaN</td>\n      <td>NaN</td>\n      <td>NaN</td>\n      <td>NaN</td>\n      <td>NaN</td>\n      <td>NaN</td>\n      <td>NaN</td>\n      <td>NaN</td>\n      <td>NaN</td>\n      <td>NaN</td>\n    </tr>\n    <tr>\n      <td>16150</td>\n      <td>NaN</td>\n      <td>NaN</td>\n      <td>NaN</td>\n      <td>NaN</td>\n      <td>NaN</td>\n      <td>NaN</td>\n      <td>NaN</td>\n      <td>NaN</td>\n      <td>NaN</td>\n      <td>NaN</td>\n      <td>NaN</td>\n      <td>NaN</td>\n      <td>NaN</td>\n      <td>NaN</td>\n      <td>NaN</td>\n      <td>NaN</td>\n      <td>NaN</td>\n      <td>NaN</td>\n      <td>NaN</td>\n    </tr>\n  </tbody>\n</table>\n<p>121 rows × 19 columns</p>\n</div>"
     },
     "metadata": {},
     "execution_count": 5
    }
   ],
   "source": [
    "k=pd.DataFrame(data=df['Settle Price'],columns=list(date),index=list(strikep))\n",
    "k"
   ]
  },
  {
   "cell_type": "code",
   "execution_count": 6,
   "metadata": {},
   "outputs": [],
   "source": [
    "for i in strikep:\n",
    "    for j in date:\n",
    "        if (i,j) in df.index:\n",
    "            l=df.loc[[(i,j)],'Settle Price']\n",
    "            k.at[i,j]=l[0]\n",
    "            \n",
    "        \n",
    "\n",
    "        \n",
    "        \n",
    "\n"
   ]
  },
  {
   "cell_type": "code",
   "execution_count": 153,
   "metadata": {},
   "outputs": [
    {
     "output_type": "execute_result",
     "data": {
      "text/plain": [
       "      01-Jan-2021 04-Jan-2021 05-Jan-2021 06-Jan-2021 07-Jan-2021 08-Jan-2021  \\\n",
       "13350        75.9        56.3       54.05        55.4       44.35        31.6   \n",
       "13400        83.7          63        59.9        61.3        49.6       34.95   \n",
       "13450       93.05       69.55       66.05        67.4        55.3        38.6   \n",
       "13500       102.6        76.9       72.75        74.9       61.35        42.6   \n",
       "13550      117.15       85.65       81.15       83.05       68.95       46.85   \n",
       "\n",
       "      11-Jan-2021 12-Jan-2021 13-Jan-2021 14-Jan-2021 15-Jan-2021 18-Jan-2021  \\\n",
       "13350        29.7        25.4       21.05       17.15        22.5        23.2   \n",
       "13400       32.35       27.65        22.8       18.35        24.6          26   \n",
       "13450        35.4       30.15       25.75        20.2        27.3          29   \n",
       "13500        38.6        32.9       27.85        21.8        30.2       33.45   \n",
       "13550       42.25        36.1        30.4        24.2        33.8       37.45   \n",
       "\n",
       "      19-Jan-2021 20-Jan-2021 21-Jan-2021 22-Jan-2021 25-Jan-2021 27-Jan-2021  \\\n",
       "13350         8.3         4.1        6.95        3.45         1.6        1.75   \n",
       "13400         8.9         4.4         7.5         3.7        1.75         1.8   \n",
       "13450       10.45        5.15         8.1         4.3        2.05         2.2   \n",
       "13500       11.45        5.85        9.45        5.25         2.5        2.75   \n",
       "13550        12.8        6.35        10.6        6.25         2.8         3.4   \n",
       "\n",
       "      28-Jan-2021  \n",
       "13350     13817.5  \n",
       "13400     13817.5  \n",
       "13450     13817.5  \n",
       "13500     13817.5  \n",
       "13550     13817.5  "
      ],
      "text/html": "<div>\n<style scoped>\n    .dataframe tbody tr th:only-of-type {\n        vertical-align: middle;\n    }\n\n    .dataframe tbody tr th {\n        vertical-align: top;\n    }\n\n    .dataframe thead th {\n        text-align: right;\n    }\n</style>\n<table border=\"1\" class=\"dataframe\">\n  <thead>\n    <tr style=\"text-align: right;\">\n      <th></th>\n      <th>01-Jan-2021</th>\n      <th>04-Jan-2021</th>\n      <th>05-Jan-2021</th>\n      <th>06-Jan-2021</th>\n      <th>07-Jan-2021</th>\n      <th>08-Jan-2021</th>\n      <th>11-Jan-2021</th>\n      <th>12-Jan-2021</th>\n      <th>13-Jan-2021</th>\n      <th>14-Jan-2021</th>\n      <th>15-Jan-2021</th>\n      <th>18-Jan-2021</th>\n      <th>19-Jan-2021</th>\n      <th>20-Jan-2021</th>\n      <th>21-Jan-2021</th>\n      <th>22-Jan-2021</th>\n      <th>25-Jan-2021</th>\n      <th>27-Jan-2021</th>\n      <th>28-Jan-2021</th>\n    </tr>\n  </thead>\n  <tbody>\n    <tr>\n      <td>13350</td>\n      <td>75.9</td>\n      <td>56.3</td>\n      <td>54.05</td>\n      <td>55.4</td>\n      <td>44.35</td>\n      <td>31.6</td>\n      <td>29.7</td>\n      <td>25.4</td>\n      <td>21.05</td>\n      <td>17.15</td>\n      <td>22.5</td>\n      <td>23.2</td>\n      <td>8.3</td>\n      <td>4.1</td>\n      <td>6.95</td>\n      <td>3.45</td>\n      <td>1.6</td>\n      <td>1.75</td>\n      <td>13817.5</td>\n    </tr>\n    <tr>\n      <td>13400</td>\n      <td>83.7</td>\n      <td>63</td>\n      <td>59.9</td>\n      <td>61.3</td>\n      <td>49.6</td>\n      <td>34.95</td>\n      <td>32.35</td>\n      <td>27.65</td>\n      <td>22.8</td>\n      <td>18.35</td>\n      <td>24.6</td>\n      <td>26</td>\n      <td>8.9</td>\n      <td>4.4</td>\n      <td>7.5</td>\n      <td>3.7</td>\n      <td>1.75</td>\n      <td>1.8</td>\n      <td>13817.5</td>\n    </tr>\n    <tr>\n      <td>13450</td>\n      <td>93.05</td>\n      <td>69.55</td>\n      <td>66.05</td>\n      <td>67.4</td>\n      <td>55.3</td>\n      <td>38.6</td>\n      <td>35.4</td>\n      <td>30.15</td>\n      <td>25.75</td>\n      <td>20.2</td>\n      <td>27.3</td>\n      <td>29</td>\n      <td>10.45</td>\n      <td>5.15</td>\n      <td>8.1</td>\n      <td>4.3</td>\n      <td>2.05</td>\n      <td>2.2</td>\n      <td>13817.5</td>\n    </tr>\n    <tr>\n      <td>13500</td>\n      <td>102.6</td>\n      <td>76.9</td>\n      <td>72.75</td>\n      <td>74.9</td>\n      <td>61.35</td>\n      <td>42.6</td>\n      <td>38.6</td>\n      <td>32.9</td>\n      <td>27.85</td>\n      <td>21.8</td>\n      <td>30.2</td>\n      <td>33.45</td>\n      <td>11.45</td>\n      <td>5.85</td>\n      <td>9.45</td>\n      <td>5.25</td>\n      <td>2.5</td>\n      <td>2.75</td>\n      <td>13817.5</td>\n    </tr>\n    <tr>\n      <td>13550</td>\n      <td>117.15</td>\n      <td>85.65</td>\n      <td>81.15</td>\n      <td>83.05</td>\n      <td>68.95</td>\n      <td>46.85</td>\n      <td>42.25</td>\n      <td>36.1</td>\n      <td>30.4</td>\n      <td>24.2</td>\n      <td>33.8</td>\n      <td>37.45</td>\n      <td>12.8</td>\n      <td>6.35</td>\n      <td>10.6</td>\n      <td>6.25</td>\n      <td>2.8</td>\n      <td>3.4</td>\n      <td>13817.5</td>\n    </tr>\n  </tbody>\n</table>\n</div>"
     },
     "metadata": {},
     "execution_count": 153
    }
   ],
   "source": [
    "k.head(5)"
   ]
  },
  {
   "cell_type": "code",
   "execution_count": 143,
   "metadata": {},
   "outputs": [
    {
     "output_type": "execute_result",
     "data": {
      "text/plain": [
       "True"
      ]
     },
     "metadata": {},
     "execution_count": 143
    }
   ],
   "source": [
    "(13350, '01-Jan-2021') in df.index"
   ]
  },
  {
   "cell_type": "code",
   "execution_count": null,
   "metadata": {},
   "outputs": [],
   "source": []
  }
 ]
}