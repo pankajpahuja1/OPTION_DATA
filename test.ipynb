{
 "metadata": {
  "language_info": {
   "codemirror_mode": {
    "name": "ipython",
    "version": 3
   },
   "file_extension": ".py",
   "mimetype": "text/x-python",
   "name": "python",
   "nbconvert_exporter": "python",
   "pygments_lexer": "ipython3",
   "version": "3.7.4"
  },
  "orig_nbformat": 2,
  "kernelspec": {
   "name": "python374jvsc74a57bd0dca0ade3e726a953b501b15e8e990130d2b7799f14cfd9f4271676035ebe5511",
   "display_name": "Python 3.7.4 64-bit ('base': conda)"
  }
 },
 "nbformat": 4,
 "nbformat_minor": 2,
 "cells": [
  {
   "cell_type": "code",
   "execution_count": 12,
   "metadata": {},
   "outputs": [
    {
     "output_type": "execute_result",
     "data": {
      "text/plain": [
       "      01-Jan-2021 04-Jan-2021 05-Jan-2021 06-Jan-2021 07-Jan-2021 08-Jan-2021  \\\n",
       "13350        75.9        56.3       54.05        55.4       44.35        31.6   \n",
       "13400        83.7          63        59.9        61.3        49.6       34.95   \n",
       "13450       93.05       69.55       66.05        67.4        55.3        38.6   \n",
       "13500       102.6        76.9       72.75        74.9       61.35        42.6   \n",
       "13550      117.15       85.65       81.15       83.05       68.95       46.85   \n",
       "...           ...         ...         ...         ...         ...         ...   \n",
       "15950         NaN         NaN         NaN         NaN         NaN         NaN   \n",
       "16000         NaN         NaN         NaN         NaN         NaN         NaN   \n",
       "16050         NaN         NaN         NaN         NaN         NaN         NaN   \n",
       "16100         NaN         NaN         NaN         NaN         NaN         NaN   \n",
       "16150         NaN         NaN         NaN         NaN         NaN         NaN   \n",
       "\n",
       "      11-Jan-2021 12-Jan-2021 13-Jan-2021 14-Jan-2021 15-Jan-2021 18-Jan-2021  \\\n",
       "13350        29.7        25.4       21.05       17.15        22.5        23.2   \n",
       "13400       32.35       27.65        22.8       18.35        24.6          26   \n",
       "13450        35.4       30.15       25.75        20.2        27.3          29   \n",
       "13500        38.6        32.9       27.85        21.8        30.2       33.45   \n",
       "13550       42.25        36.1        30.4        24.2        33.8       37.45   \n",
       "...           ...         ...         ...         ...         ...         ...   \n",
       "15950         NaN      1369.4      1367.7      1337.8        1496      1650.7   \n",
       "16000         NaN     1417.55      1386.3      1369.6      1542.6     1695.05   \n",
       "16050         NaN         NaN     1464.65      1434.9      1594.6     1750.35   \n",
       "16100         NaN         NaN         NaN         NaN     1644.05      1800.2   \n",
       "16150         NaN         NaN         NaN         NaN         NaN         NaN   \n",
       "\n",
       "      19-Jan-2021 20-Jan-2021 21-Jan-2021 22-Jan-2021 25-Jan-2021 27-Jan-2021  \\\n",
       "13350         8.3         4.1        6.95        3.45         1.6        1.75   \n",
       "13400         8.9         4.4         7.5         3.7        1.75         1.8   \n",
       "13450       10.45        5.15         8.1         4.3        2.05         2.2   \n",
       "13500       11.45        5.85        9.45        5.25         2.5        2.75   \n",
       "13550        12.8        6.35        10.6        6.25         2.8         3.4   \n",
       "...           ...         ...         ...         ...         ...         ...   \n",
       "15950      1413.5      1292.1      1347.3        1567     1705.55     1980.65   \n",
       "16000     1429.65     1353.65      1400.4     1620.85      1738.7      2012.8   \n",
       "16050     1512.85      1391.3      1446.9      1666.9      1805.5     2080.65   \n",
       "16100      1562.6     1441.05      1496.8     1716.85      1855.5     2130.65   \n",
       "16150         NaN         NaN     1546.65     1766.85     1905.45      2180.6   \n",
       "\n",
       "      28-Jan-2021  \n",
       "13350     13817.5  \n",
       "13400     13817.5  \n",
       "13450     13817.5  \n",
       "13500     13817.5  \n",
       "13550     13817.5  \n",
       "...           ...  \n",
       "15950     13817.5  \n",
       "16000     13817.5  \n",
       "16050     13817.5  \n",
       "16100     13817.5  \n",
       "16150     13817.5  \n",
       "\n",
       "[121 rows x 19 columns]"
      ],
      "text/html": "<div>\n<style scoped>\n    .dataframe tbody tr th:only-of-type {\n        vertical-align: middle;\n    }\n\n    .dataframe tbody tr th {\n        vertical-align: top;\n    }\n\n    .dataframe thead th {\n        text-align: right;\n    }\n</style>\n<table border=\"1\" class=\"dataframe\">\n  <thead>\n    <tr style=\"text-align: right;\">\n      <th></th>\n      <th>01-Jan-2021</th>\n      <th>04-Jan-2021</th>\n      <th>05-Jan-2021</th>\n      <th>06-Jan-2021</th>\n      <th>07-Jan-2021</th>\n      <th>08-Jan-2021</th>\n      <th>11-Jan-2021</th>\n      <th>12-Jan-2021</th>\n      <th>13-Jan-2021</th>\n      <th>14-Jan-2021</th>\n      <th>15-Jan-2021</th>\n      <th>18-Jan-2021</th>\n      <th>19-Jan-2021</th>\n      <th>20-Jan-2021</th>\n      <th>21-Jan-2021</th>\n      <th>22-Jan-2021</th>\n      <th>25-Jan-2021</th>\n      <th>27-Jan-2021</th>\n      <th>28-Jan-2021</th>\n    </tr>\n  </thead>\n  <tbody>\n    <tr>\n      <td>13350</td>\n      <td>75.9</td>\n      <td>56.3</td>\n      <td>54.05</td>\n      <td>55.4</td>\n      <td>44.35</td>\n      <td>31.6</td>\n      <td>29.7</td>\n      <td>25.4</td>\n      <td>21.05</td>\n      <td>17.15</td>\n      <td>22.5</td>\n      <td>23.2</td>\n      <td>8.3</td>\n      <td>4.1</td>\n      <td>6.95</td>\n      <td>3.45</td>\n      <td>1.6</td>\n      <td>1.75</td>\n      <td>13817.5</td>\n    </tr>\n    <tr>\n      <td>13400</td>\n      <td>83.7</td>\n      <td>63</td>\n      <td>59.9</td>\n      <td>61.3</td>\n      <td>49.6</td>\n      <td>34.95</td>\n      <td>32.35</td>\n      <td>27.65</td>\n      <td>22.8</td>\n      <td>18.35</td>\n      <td>24.6</td>\n      <td>26</td>\n      <td>8.9</td>\n      <td>4.4</td>\n      <td>7.5</td>\n      <td>3.7</td>\n      <td>1.75</td>\n      <td>1.8</td>\n      <td>13817.5</td>\n    </tr>\n    <tr>\n      <td>13450</td>\n      <td>93.05</td>\n      <td>69.55</td>\n      <td>66.05</td>\n      <td>67.4</td>\n      <td>55.3</td>\n      <td>38.6</td>\n      <td>35.4</td>\n      <td>30.15</td>\n      <td>25.75</td>\n      <td>20.2</td>\n      <td>27.3</td>\n      <td>29</td>\n      <td>10.45</td>\n      <td>5.15</td>\n      <td>8.1</td>\n      <td>4.3</td>\n      <td>2.05</td>\n      <td>2.2</td>\n      <td>13817.5</td>\n    </tr>\n    <tr>\n      <td>13500</td>\n      <td>102.6</td>\n      <td>76.9</td>\n      <td>72.75</td>\n      <td>74.9</td>\n      <td>61.35</td>\n      <td>42.6</td>\n      <td>38.6</td>\n      <td>32.9</td>\n      <td>27.85</td>\n      <td>21.8</td>\n      <td>30.2</td>\n      <td>33.45</td>\n      <td>11.45</td>\n      <td>5.85</td>\n      <td>9.45</td>\n      <td>5.25</td>\n      <td>2.5</td>\n      <td>2.75</td>\n      <td>13817.5</td>\n    </tr>\n    <tr>\n      <td>13550</td>\n      <td>117.15</td>\n      <td>85.65</td>\n      <td>81.15</td>\n      <td>83.05</td>\n      <td>68.95</td>\n      <td>46.85</td>\n      <td>42.25</td>\n      <td>36.1</td>\n      <td>30.4</td>\n      <td>24.2</td>\n      <td>33.8</td>\n      <td>37.45</td>\n      <td>12.8</td>\n      <td>6.35</td>\n      <td>10.6</td>\n      <td>6.25</td>\n      <td>2.8</td>\n      <td>3.4</td>\n      <td>13817.5</td>\n    </tr>\n    <tr>\n      <td>...</td>\n      <td>...</td>\n      <td>...</td>\n      <td>...</td>\n      <td>...</td>\n      <td>...</td>\n      <td>...</td>\n      <td>...</td>\n      <td>...</td>\n      <td>...</td>\n      <td>...</td>\n      <td>...</td>\n      <td>...</td>\n      <td>...</td>\n      <td>...</td>\n      <td>...</td>\n      <td>...</td>\n      <td>...</td>\n      <td>...</td>\n      <td>...</td>\n    </tr>\n    <tr>\n      <td>15950</td>\n      <td>NaN</td>\n      <td>NaN</td>\n      <td>NaN</td>\n      <td>NaN</td>\n      <td>NaN</td>\n      <td>NaN</td>\n      <td>NaN</td>\n      <td>1369.4</td>\n      <td>1367.7</td>\n      <td>1337.8</td>\n      <td>1496</td>\n      <td>1650.7</td>\n      <td>1413.5</td>\n      <td>1292.1</td>\n      <td>1347.3</td>\n      <td>1567</td>\n      <td>1705.55</td>\n      <td>1980.65</td>\n      <td>13817.5</td>\n    </tr>\n    <tr>\n      <td>16000</td>\n      <td>NaN</td>\n      <td>NaN</td>\n      <td>NaN</td>\n      <td>NaN</td>\n      <td>NaN</td>\n      <td>NaN</td>\n      <td>NaN</td>\n      <td>1417.55</td>\n      <td>1386.3</td>\n      <td>1369.6</td>\n      <td>1542.6</td>\n      <td>1695.05</td>\n      <td>1429.65</td>\n      <td>1353.65</td>\n      <td>1400.4</td>\n      <td>1620.85</td>\n      <td>1738.7</td>\n      <td>2012.8</td>\n      <td>13817.5</td>\n    </tr>\n    <tr>\n      <td>16050</td>\n      <td>NaN</td>\n      <td>NaN</td>\n      <td>NaN</td>\n      <td>NaN</td>\n      <td>NaN</td>\n      <td>NaN</td>\n      <td>NaN</td>\n      <td>NaN</td>\n      <td>1464.65</td>\n      <td>1434.9</td>\n      <td>1594.6</td>\n      <td>1750.35</td>\n      <td>1512.85</td>\n      <td>1391.3</td>\n      <td>1446.9</td>\n      <td>1666.9</td>\n      <td>1805.5</td>\n      <td>2080.65</td>\n      <td>13817.5</td>\n    </tr>\n    <tr>\n      <td>16100</td>\n      <td>NaN</td>\n      <td>NaN</td>\n      <td>NaN</td>\n      <td>NaN</td>\n      <td>NaN</td>\n      <td>NaN</td>\n      <td>NaN</td>\n      <td>NaN</td>\n      <td>NaN</td>\n      <td>NaN</td>\n      <td>1644.05</td>\n      <td>1800.2</td>\n      <td>1562.6</td>\n      <td>1441.05</td>\n      <td>1496.8</td>\n      <td>1716.85</td>\n      <td>1855.5</td>\n      <td>2130.65</td>\n      <td>13817.5</td>\n    </tr>\n    <tr>\n      <td>16150</td>\n      <td>NaN</td>\n      <td>NaN</td>\n      <td>NaN</td>\n      <td>NaN</td>\n      <td>NaN</td>\n      <td>NaN</td>\n      <td>NaN</td>\n      <td>NaN</td>\n      <td>NaN</td>\n      <td>NaN</td>\n      <td>NaN</td>\n      <td>NaN</td>\n      <td>NaN</td>\n      <td>NaN</td>\n      <td>1546.65</td>\n      <td>1766.85</td>\n      <td>1905.45</td>\n      <td>2180.6</td>\n      <td>13817.5</td>\n    </tr>\n  </tbody>\n</table>\n<p>121 rows × 19 columns</p>\n</div>"
     },
     "metadata": {},
     "execution_count": 12
    }
   ],
   "source": [
    "import pandas as pd;\n",
    "df=pd.read_csv(\"OPTIDX_NIFTY_PE_01-Jan-2021_TO_28-Jan-2021.csv\",index_col=['Strike Price','Date'])\n",
    "df=df.drop(['Symbol','Open','High', 'Low', 'Close', 'LTP','No. of contracts','Turnover in Lacs', 'Premium Turnover in Lacs', 'Open Int',\n",
    "       'Change in OI'],axis=1)\n",
    "date=df.index.get_level_values(0).unique().tolist()\n",
    "list(date)\n",
    "strike=df.index.unique()\n",
    "list(strike)\n",
    "settle=df['Settle Price']\n",
    "list(strike)\n",
    "#data not working\n",
    "k=pd.DataFrame(data=df['Settle Price'],columns=list(date),index=list(strike))\n",
    "k\n",
    "# for dt in date:\n",
    "#     for strikep in df.index:\n",
    "        \n",
    "#          if dt in df.at[strikep,'Date']:\n",
    "#              for setle in settle:\n",
    "#                 k.at[strikep,dt]=df.at[strikep,'Settle Price']\n",
    "\n",
    "strikep=df.index.get_level_values(0).unique().tolist()\n",
    "date=df.index.get_level_values(1).unique().tolist()\n",
    "k=pd.DataFrame(data=df['Settle Price'],columns=list(date),index=list(strikep))\n",
    "for i in strikep:\n",
    "    for j in date:\n",
    "        if (i,j) in df.index:\n",
    "            l=df.loc[[(i,j)],'Settle Price']\n",
    "            k.at[i,j]=l[0]\n",
    "k\n"
   ]
  },
  {
   "cell_type": "code",
   "execution_count": 9,
   "metadata": {},
   "outputs": [],
   "source": [
    "# for i,j in k.iterrows():\n",
    "#     print(j)\n",
    "#     break"
   ]
  },
  {
   "cell_type": "code",
   "execution_count": 10,
   "metadata": {},
   "outputs": [],
   "source": [
    "# settle=df['Settle Price']\n",
    "# list(strike)"
   ]
  },
  {
   "cell_type": "code",
   "execution_count": 11,
   "metadata": {
    "tags": []
   },
   "outputs": [],
   "source": [
    "# for dt in date:\n",
    "#     for strikep in df.index:\n",
    "#         for setle in settle:\n",
    "#             print(setle)"
   ]
  },
  {
   "cell_type": "code",
   "execution_count": 67,
   "metadata": {},
   "outputs": [],
   "source": [
    "# df[['Settle Price','Date']]"
   ]
  },
  {
   "cell_type": "code",
   "execution_count": 66,
   "metadata": {},
   "outputs": [],
   "source": [
    "# df.loc[[13350,14000],['Date','Settle Price']]"
   ]
  },
  {
   "cell_type": "code",
   "execution_count": 65,
   "metadata": {
    "tags": []
   },
   "outputs": [],
   "source": [
    "# for i in df.index.unique():\n",
    "#     print(df.loc[[i,'Date']])\n",
    "# print(\"hi\")"
   ]
  },
  {
   "cell_type": "code",
   "execution_count": 9,
   "metadata": {},
   "outputs": [],
   "source": [
    "# z=df.loc[[(13350,'01-Jan-2021')],'Settle Price']\n",
    "# type(z)\n",
    "# z[0]"
   ]
  },
  {
   "cell_type": "code",
   "execution_count": 4,
   "metadata": {},
   "outputs": [],
   "source": []
  },
  {
   "cell_type": "code",
   "execution_count": 13,
   "metadata": {},
   "outputs": [
    {
     "output_type": "execute_result",
     "data": {
      "text/plain": [
       "True"
      ]
     },
     "metadata": {},
     "execution_count": 13
    }
   ],
   "source": [
    "k.head(5)\n",
    "(13350, '01-Jan-2021') in df.index"
   ]
  },
  {
   "cell_type": "code",
   "execution_count": 7,
   "metadata": {},
   "outputs": [
    {
     "output_type": "execute_result",
     "data": {
      "text/plain": [
       "True"
      ]
     },
     "metadata": {},
     "execution_count": 7
    }
   ],
   "source": []
  },
  {
   "cell_type": "code",
   "execution_count": null,
   "metadata": {},
   "outputs": [],
   "source": [
    "|"
   ]
  }
 ]
}