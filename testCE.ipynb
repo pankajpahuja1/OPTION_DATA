{
 "metadata": {
  "language_info": {
   "codemirror_mode": {
    "name": "ipython",
    "version": 3
   },
   "file_extension": ".py",
   "mimetype": "text/x-python",
   "name": "python",
   "nbconvert_exporter": "python",
   "pygments_lexer": "ipython3",
   "version": "3.7.4"
  },
  "orig_nbformat": 2,
  "kernelspec": {
   "name": "python374jvsc74a57bd0dca0ade3e726a953b501b15e8e990130d2b7799f14cfd9f4271676035ebe5511",
   "display_name": "Python 3.7.4 64-bit ('base': conda)"
  }
 },
 "nbformat": 4,
 "nbformat_minor": 2,
 "cells": [
  {
   "cell_type": "code",
   "execution_count": 247,
   "metadata": {},
   "outputs": [],
   "source": [
    "import pandas as pd;\n",
    "calldf=pd.read_csv(\"OPTIDX_NIFTY_CE_01-Jan-2021_TO_28-Jan-2021.csv\",index_col=['Strike Price','Date'])\n",
    "calldf=calldf.drop(['Symbol','Open','High', 'Low', 'Close', 'LTP','No. of contracts','Turnover in Lacs', 'Premium Turnover in Lacs', 'Open Int',\n",
    "       'Change in OI'],axis=1)\n",
    "date=calldf.index.get_level_values(0).unique().tolist()\n",
    "list(date)\n",
    "strike=calldf.index.unique()\n",
    "list(strike)\n",
    "settle=calldf['Settle Price']\n",
    "list(strike)\n",
    "#data not working\n",
    "# k=pd.DataFrame(data=calldf['Settle Price'],columns=list(date),index=list(strike))\n",
    "# k\n",
    "# for dt in date:\n",
    "#     for strikep in df.index:\n",
    "        \n",
    "#          if dt in df.at[strikep,'Date']:\n",
    "#              for setle in settle:\n",
    "#                 k.at[strikep,dt]=df.at[strikep,'Settle Price']\n",
    "\n",
    "strikep=calldf.index.get_level_values(0).unique().tolist()\n",
    "date=calldf.index.get_level_values(1).unique().tolist()\n",
    "call=pd.DataFrame(data=calldf['Settle Price'],columns=list(date),index=list(strikep))\n",
    "for i in strikep:\n",
    "    for j in date:\n",
    "        if (i,j) in calldf.index:\n",
    "            l=calldf.loc[[(i,j)],'Settle Price']\n",
    "            call.at[i,j]=l[0]\n",
    "\n"
   ]
  },
  {
   "cell_type": "code",
   "execution_count": 248,
   "metadata": {},
   "outputs": [],
   "source": [
    "import pandas as pd;\n",
    "df=pd.read_csv(\"OPTIDX_NIFTY_PE_01-Jan-2021_TO_28-Jan-2021.csv\",index_col=['Strike Price','Date'])\n",
    "df=df.drop(['Symbol','Open','High', 'Low', 'Close', 'LTP','No. of contracts','Turnover in Lacs', 'Premium Turnover in Lacs', 'Open Int',\n",
    "       'Change in OI'],axis=1)\n",
    "date=df.index.get_level_values(0).unique().tolist()\n",
    "list(date)\n",
    "strike=df.index.unique()\n",
    "list(strike)\n",
    "settle=df['Settle Price']\n",
    "list(strike)\n",
    "#data not working\n",
    "k=pd.DataFrame(data=df['Settle Price'],columns=list(date),index=list(strike))\n",
    "k\n",
    "# for dt in date:\n",
    "#     for strikep in df.index:\n",
    "        \n",
    "#          if dt in df.at[strikep,'Date']:\n",
    "#              for setle in settle:\n",
    "#                 k.at[strikep,dt]=df.at[strikep,'Settle Price']\n",
    "\n",
    "strikep=df.index.get_level_values(0).unique().tolist()\n",
    "date=df.index.get_level_values(1).unique().tolist()\n",
    "k=pd.DataFrame(data=df['Settle Price'],columns=list(date),index=list(strikep))\n",
    "for i in strikep:\n",
    "    for j in date:\n",
    "        if (i,j) in df.index:\n",
    "            l=df.loc[[(i,j)],'Settle Price']\n",
    "            k.at[i,j]=l[0]\n",
    "\n"
   ]
  },
  {
   "cell_type": "code",
   "execution_count": 249,
   "metadata": {},
   "outputs": [],
   "source": [
    "ATM=int(input(\"ENTER SPOT PRICE\"))\n",
    "CALLOTM=ATM+500\n",
    "PUTOTM=ATM-500\n"
   ]
  },
  {
   "cell_type": "code",
   "execution_count": 40,
   "metadata": {},
   "outputs": [],
   "source": [
    "for i in strikep:\n",
    "    if ATM==i:\n",
    "        final=k.loc[[ATM,CALLOTM,PUTOTM]]\n",
    "final.to_excel(\"out.xls\")\n"
   ]
  },
  {
   "cell_type": "code",
   "execution_count": 10,
   "metadata": {},
   "outputs": [],
   "source": [
    "final=pd.concat([call,k],axis=1,keys=['call', 'put'])"
   ]
  },
  {
   "cell_type": "code",
   "execution_count": 11,
   "metadata": {},
   "outputs": [],
   "source": [
    "final.to_excel(\"out.xls\")"
   ]
  },
  {
   "cell_type": "code",
   "execution_count": 83,
   "metadata": {},
   "outputs": [
    {
     "output_type": "execute_result",
     "data": {
      "text/plain": [
       "           01-Jan-2021 04-Jan-2021 05-Jan-2021 06-Jan-2021 07-Jan-2021  \\\n",
       "call 13350         825      864.45       949.8      898.15       884.3   \n",
       "     13400      733.65       821.3         870       837.9      838.65   \n",
       "     13450      702.15      819.35      867.05       816.4      802.75   \n",
       "     13500      654.25       738.8       786.1      761.65      750.65   \n",
       "     13550       678.3      695.95         750      738.05      723.55   \n",
       "...                ...         ...         ...         ...         ...   \n",
       "put  15950         NaN         NaN         NaN         NaN         NaN   \n",
       "     16000         NaN         NaN         NaN         NaN         NaN   \n",
       "     16050         NaN         NaN         NaN         NaN         NaN   \n",
       "     16100         NaN         NaN         NaN         NaN         NaN   \n",
       "     16150         NaN         NaN         NaN         NaN         NaN   \n",
       "\n",
       "           08-Jan-2021 11-Jan-2021 12-Jan-2021 13-Jan-2021 14-Jan-2021  \\\n",
       "call 13350      1064.1     1178.55      1249.9     1247.75     1274.35   \n",
       "     13400      1004.6        1115      1214.4     1223.75     1249.55   \n",
       "     13450      945.65     1085.55     1155.05     1152.35        1178   \n",
       "     13500       906.7     1022.45      1127.8      1133.4      1148.4   \n",
       "     13550      889.95      971.35        1086      1058.5     1083.05   \n",
       "...                ...         ...         ...         ...         ...   \n",
       "put  15950         NaN         NaN      1369.4      1367.7      1337.8   \n",
       "     16000         NaN         NaN     1417.55      1386.3      1369.6   \n",
       "     16050         NaN         NaN         NaN     1464.65      1434.9   \n",
       "     16100         NaN         NaN         NaN         NaN         NaN   \n",
       "     16150         NaN         NaN         NaN         NaN         NaN   \n",
       "\n",
       "           15-Jan-2021 18-Jan-2021 19-Jan-2021 20-Jan-2021 21-Jan-2021  \\\n",
       "call 13350     1114.25       956.7      1187.4      1307.8      1285.9   \n",
       "     13400     1083.05      914.95      1185.2        1251     1178.35   \n",
       "     13450      1047.8       862.1      1089.2     1208.55      1165.6   \n",
       "     13500      988.55       827.2     1082.35     1154.75      1119.7   \n",
       "     13550      926.65      770.05      991.95     1109.75      1103.5   \n",
       "...                ...         ...         ...         ...         ...   \n",
       "put  15950        1496      1650.7      1413.5      1292.1      1347.3   \n",
       "     16000      1542.6     1695.05     1429.65     1353.65      1400.4   \n",
       "     16050      1594.6     1750.35     1512.85      1391.3      1446.9   \n",
       "     16100     1644.05      1800.2      1562.6     1441.05      1496.8   \n",
       "     16150         NaN         NaN         NaN         NaN     1546.65   \n",
       "\n",
       "           22-Jan-2021 25-Jan-2021 27-Jan-2021 28-Jan-2021  \n",
       "call 13350     1055.95      895.05       644.2     13817.5  \n",
       "     13400       984.8      857.65      586.65     13817.5  \n",
       "     13450       917.7       779.4      534.25     13817.5  \n",
       "     13500       888.2      749.05       485.1     13817.5  \n",
       "     13550      835.75      694.75      440.35     13817.5  \n",
       "...                ...         ...         ...         ...  \n",
       "put  15950        1567     1705.55     1980.65     13817.5  \n",
       "     16000     1620.85      1738.7      2012.8     13817.5  \n",
       "     16050      1666.9      1805.5     2080.65     13817.5  \n",
       "     16100     1716.85      1855.5     2130.65     13817.5  \n",
       "     16150     1766.85     1905.45      2180.6     13817.5  \n",
       "\n",
       "[242 rows x 19 columns]"
      ],
      "text/html": "<div>\n<style scoped>\n    .dataframe tbody tr th:only-of-type {\n        vertical-align: middle;\n    }\n\n    .dataframe tbody tr th {\n        vertical-align: top;\n    }\n\n    .dataframe thead th {\n        text-align: right;\n    }\n</style>\n<table border=\"1\" class=\"dataframe\">\n  <thead>\n    <tr style=\"text-align: right;\">\n      <th></th>\n      <th></th>\n      <th>01-Jan-2021</th>\n      <th>04-Jan-2021</th>\n      <th>05-Jan-2021</th>\n      <th>06-Jan-2021</th>\n      <th>07-Jan-2021</th>\n      <th>08-Jan-2021</th>\n      <th>11-Jan-2021</th>\n      <th>12-Jan-2021</th>\n      <th>13-Jan-2021</th>\n      <th>14-Jan-2021</th>\n      <th>15-Jan-2021</th>\n      <th>18-Jan-2021</th>\n      <th>19-Jan-2021</th>\n      <th>20-Jan-2021</th>\n      <th>21-Jan-2021</th>\n      <th>22-Jan-2021</th>\n      <th>25-Jan-2021</th>\n      <th>27-Jan-2021</th>\n      <th>28-Jan-2021</th>\n    </tr>\n  </thead>\n  <tbody>\n    <tr>\n      <td rowspan=\"5\" valign=\"top\">call</td>\n      <td>13350</td>\n      <td>825</td>\n      <td>864.45</td>\n      <td>949.8</td>\n      <td>898.15</td>\n      <td>884.3</td>\n      <td>1064.1</td>\n      <td>1178.55</td>\n      <td>1249.9</td>\n      <td>1247.75</td>\n      <td>1274.35</td>\n      <td>1114.25</td>\n      <td>956.7</td>\n      <td>1187.4</td>\n      <td>1307.8</td>\n      <td>1285.9</td>\n      <td>1055.95</td>\n      <td>895.05</td>\n      <td>644.2</td>\n      <td>13817.5</td>\n    </tr>\n    <tr>\n      <td>13400</td>\n      <td>733.65</td>\n      <td>821.3</td>\n      <td>870</td>\n      <td>837.9</td>\n      <td>838.65</td>\n      <td>1004.6</td>\n      <td>1115</td>\n      <td>1214.4</td>\n      <td>1223.75</td>\n      <td>1249.55</td>\n      <td>1083.05</td>\n      <td>914.95</td>\n      <td>1185.2</td>\n      <td>1251</td>\n      <td>1178.35</td>\n      <td>984.8</td>\n      <td>857.65</td>\n      <td>586.65</td>\n      <td>13817.5</td>\n    </tr>\n    <tr>\n      <td>13450</td>\n      <td>702.15</td>\n      <td>819.35</td>\n      <td>867.05</td>\n      <td>816.4</td>\n      <td>802.75</td>\n      <td>945.65</td>\n      <td>1085.55</td>\n      <td>1155.05</td>\n      <td>1152.35</td>\n      <td>1178</td>\n      <td>1047.8</td>\n      <td>862.1</td>\n      <td>1089.2</td>\n      <td>1208.55</td>\n      <td>1165.6</td>\n      <td>917.7</td>\n      <td>779.4</td>\n      <td>534.25</td>\n      <td>13817.5</td>\n    </tr>\n    <tr>\n      <td>13500</td>\n      <td>654.25</td>\n      <td>738.8</td>\n      <td>786.1</td>\n      <td>761.65</td>\n      <td>750.65</td>\n      <td>906.7</td>\n      <td>1022.45</td>\n      <td>1127.8</td>\n      <td>1133.4</td>\n      <td>1148.4</td>\n      <td>988.55</td>\n      <td>827.2</td>\n      <td>1082.35</td>\n      <td>1154.75</td>\n      <td>1119.7</td>\n      <td>888.2</td>\n      <td>749.05</td>\n      <td>485.1</td>\n      <td>13817.5</td>\n    </tr>\n    <tr>\n      <td>13550</td>\n      <td>678.3</td>\n      <td>695.95</td>\n      <td>750</td>\n      <td>738.05</td>\n      <td>723.55</td>\n      <td>889.95</td>\n      <td>971.35</td>\n      <td>1086</td>\n      <td>1058.5</td>\n      <td>1083.05</td>\n      <td>926.65</td>\n      <td>770.05</td>\n      <td>991.95</td>\n      <td>1109.75</td>\n      <td>1103.5</td>\n      <td>835.75</td>\n      <td>694.75</td>\n      <td>440.35</td>\n      <td>13817.5</td>\n    </tr>\n    <tr>\n      <td>...</td>\n      <td>...</td>\n      <td>...</td>\n      <td>...</td>\n      <td>...</td>\n      <td>...</td>\n      <td>...</td>\n      <td>...</td>\n      <td>...</td>\n      <td>...</td>\n      <td>...</td>\n      <td>...</td>\n      <td>...</td>\n      <td>...</td>\n      <td>...</td>\n      <td>...</td>\n      <td>...</td>\n      <td>...</td>\n      <td>...</td>\n      <td>...</td>\n      <td>...</td>\n    </tr>\n    <tr>\n      <td rowspan=\"5\" valign=\"top\">put</td>\n      <td>15950</td>\n      <td>NaN</td>\n      <td>NaN</td>\n      <td>NaN</td>\n      <td>NaN</td>\n      <td>NaN</td>\n      <td>NaN</td>\n      <td>NaN</td>\n      <td>1369.4</td>\n      <td>1367.7</td>\n      <td>1337.8</td>\n      <td>1496</td>\n      <td>1650.7</td>\n      <td>1413.5</td>\n      <td>1292.1</td>\n      <td>1347.3</td>\n      <td>1567</td>\n      <td>1705.55</td>\n      <td>1980.65</td>\n      <td>13817.5</td>\n    </tr>\n    <tr>\n      <td>16000</td>\n      <td>NaN</td>\n      <td>NaN</td>\n      <td>NaN</td>\n      <td>NaN</td>\n      <td>NaN</td>\n      <td>NaN</td>\n      <td>NaN</td>\n      <td>1417.55</td>\n      <td>1386.3</td>\n      <td>1369.6</td>\n      <td>1542.6</td>\n      <td>1695.05</td>\n      <td>1429.65</td>\n      <td>1353.65</td>\n      <td>1400.4</td>\n      <td>1620.85</td>\n      <td>1738.7</td>\n      <td>2012.8</td>\n      <td>13817.5</td>\n    </tr>\n    <tr>\n      <td>16050</td>\n      <td>NaN</td>\n      <td>NaN</td>\n      <td>NaN</td>\n      <td>NaN</td>\n      <td>NaN</td>\n      <td>NaN</td>\n      <td>NaN</td>\n      <td>NaN</td>\n      <td>1464.65</td>\n      <td>1434.9</td>\n      <td>1594.6</td>\n      <td>1750.35</td>\n      <td>1512.85</td>\n      <td>1391.3</td>\n      <td>1446.9</td>\n      <td>1666.9</td>\n      <td>1805.5</td>\n      <td>2080.65</td>\n      <td>13817.5</td>\n    </tr>\n    <tr>\n      <td>16100</td>\n      <td>NaN</td>\n      <td>NaN</td>\n      <td>NaN</td>\n      <td>NaN</td>\n      <td>NaN</td>\n      <td>NaN</td>\n      <td>NaN</td>\n      <td>NaN</td>\n      <td>NaN</td>\n      <td>NaN</td>\n      <td>1644.05</td>\n      <td>1800.2</td>\n      <td>1562.6</td>\n      <td>1441.05</td>\n      <td>1496.8</td>\n      <td>1716.85</td>\n      <td>1855.5</td>\n      <td>2130.65</td>\n      <td>13817.5</td>\n    </tr>\n    <tr>\n      <td>16150</td>\n      <td>NaN</td>\n      <td>NaN</td>\n      <td>NaN</td>\n      <td>NaN</td>\n      <td>NaN</td>\n      <td>NaN</td>\n      <td>NaN</td>\n      <td>NaN</td>\n      <td>NaN</td>\n      <td>NaN</td>\n      <td>NaN</td>\n      <td>NaN</td>\n      <td>NaN</td>\n      <td>NaN</td>\n      <td>1546.65</td>\n      <td>1766.85</td>\n      <td>1905.45</td>\n      <td>2180.6</td>\n      <td>13817.5</td>\n    </tr>\n  </tbody>\n</table>\n<p>242 rows × 19 columns</p>\n</div>"
     },
     "metadata": {},
     "execution_count": 83
    }
   ],
   "source": [
    "hfinal=pd.concat([call,k],keys=['call', 'put'])\n",
    "hfinal"
   ]
  },
  {
   "cell_type": "code",
   "execution_count": 46,
   "metadata": {},
   "outputs": [],
   "source": [
    "\n",
    "hfinal.to_excel(\"out1.xls\")"
   ]
  },
  {
   "cell_type": "code",
   "execution_count": 59,
   "metadata": {},
   "outputs": [
    {
     "output_type": "error",
     "ename": "TypeError",
     "evalue": "'['call', 'put']' is an invalid key",
     "traceback": [
      "\u001b[0;31m---------------------------------------------------------------------------\u001b[0m",
      "\u001b[0;31mTypeError\u001b[0m                                 Traceback (most recent call last)",
      "\u001b[0;32m<ipython-input-59-be7568545542>\u001b[0m in \u001b[0;36m<module>\u001b[0;34m\u001b[0m\n\u001b[1;32m      1\u001b[0m \u001b[0mhfinal\u001b[0m\u001b[0;34m=\u001b[0m\u001b[0mpd\u001b[0m\u001b[0;34m.\u001b[0m\u001b[0mconcat\u001b[0m\u001b[0;34m(\u001b[0m\u001b[0;34m[\u001b[0m\u001b[0mcall\u001b[0m\u001b[0;34m,\u001b[0m\u001b[0mk\u001b[0m\u001b[0;34m]\u001b[0m\u001b[0;34m,\u001b[0m\u001b[0mkeys\u001b[0m\u001b[0;34m=\u001b[0m\u001b[0;34m[\u001b[0m\u001b[0;34m'call'\u001b[0m\u001b[0;34m,\u001b[0m \u001b[0;34m'put'\u001b[0m\u001b[0;34m]\u001b[0m\u001b[0;34m)\u001b[0m\u001b[0;34m\u001b[0m\u001b[0;34m\u001b[0m\u001b[0m\n\u001b[0;32m----> 2\u001b[0;31m \u001b[0mfinal\u001b[0m\u001b[0;34m=\u001b[0m\u001b[0mhfinal\u001b[0m\u001b[0;34m.\u001b[0m\u001b[0mloc\u001b[0m\u001b[0;34m[\u001b[0m\u001b[0;34m[\u001b[0m\u001b[0;34m(\u001b[0m\u001b[0;34m[\u001b[0m\u001b[0;34m'call'\u001b[0m\u001b[0;34m,\u001b[0m\u001b[0;34m'put'\u001b[0m\u001b[0;34m]\u001b[0m\u001b[0;34m)\u001b[0m\u001b[0;34m,\u001b[0m\u001b[0;34m(\u001b[0m\u001b[0;34m[\u001b[0m\u001b[0mATM\u001b[0m\u001b[0;34m,\u001b[0m\u001b[0mCALLOTM\u001b[0m\u001b[0;34m,\u001b[0m\u001b[0mPUTOTM\u001b[0m\u001b[0;34m]\u001b[0m\u001b[0;34m)\u001b[0m\u001b[0;34m]\u001b[0m\u001b[0;34m]\u001b[0m\u001b[0;34m\u001b[0m\u001b[0;34m\u001b[0m\u001b[0m\n\u001b[0m\u001b[1;32m      3\u001b[0m \u001b[0mhfinal\u001b[0m\u001b[0;34m.\u001b[0m\u001b[0mto_excel\u001b[0m\u001b[0;34m(\u001b[0m\u001b[0;34m\"out1.xls\"\u001b[0m\u001b[0;34m)\u001b[0m\u001b[0;34m\u001b[0m\u001b[0;34m\u001b[0m\u001b[0m\n",
      "\u001b[0;32m/opt/anaconda3/lib/python3.7/site-packages/pandas/core/indexing.py\u001b[0m in \u001b[0;36m__getitem__\u001b[0;34m(self, key)\u001b[0m\n\u001b[1;32m   1422\u001b[0m \u001b[0;34m\u001b[0m\u001b[0m\n\u001b[1;32m   1423\u001b[0m             \u001b[0mmaybe_callable\u001b[0m \u001b[0;34m=\u001b[0m \u001b[0mcom\u001b[0m\u001b[0;34m.\u001b[0m\u001b[0mapply_if_callable\u001b[0m\u001b[0;34m(\u001b[0m\u001b[0mkey\u001b[0m\u001b[0;34m,\u001b[0m \u001b[0mself\u001b[0m\u001b[0;34m.\u001b[0m\u001b[0mobj\u001b[0m\u001b[0;34m)\u001b[0m\u001b[0;34m\u001b[0m\u001b[0;34m\u001b[0m\u001b[0m\n\u001b[0;32m-> 1424\u001b[0;31m             \u001b[0;32mreturn\u001b[0m \u001b[0mself\u001b[0m\u001b[0;34m.\u001b[0m\u001b[0m_getitem_axis\u001b[0m\u001b[0;34m(\u001b[0m\u001b[0mmaybe_callable\u001b[0m\u001b[0;34m,\u001b[0m \u001b[0maxis\u001b[0m\u001b[0;34m=\u001b[0m\u001b[0maxis\u001b[0m\u001b[0;34m)\u001b[0m\u001b[0;34m\u001b[0m\u001b[0;34m\u001b[0m\u001b[0m\n\u001b[0m\u001b[1;32m   1425\u001b[0m \u001b[0;34m\u001b[0m\u001b[0m\n\u001b[1;32m   1426\u001b[0m     \u001b[0;32mdef\u001b[0m \u001b[0m_is_scalar_access\u001b[0m\u001b[0;34m(\u001b[0m\u001b[0mself\u001b[0m\u001b[0;34m,\u001b[0m \u001b[0mkey\u001b[0m\u001b[0;34m:\u001b[0m \u001b[0mTuple\u001b[0m\u001b[0;34m)\u001b[0m\u001b[0;34m:\u001b[0m\u001b[0;34m\u001b[0m\u001b[0;34m\u001b[0m\u001b[0m\n",
      "\u001b[0;32m/opt/anaconda3/lib/python3.7/site-packages/pandas/core/indexing.py\u001b[0m in \u001b[0;36m_getitem_axis\u001b[0;34m(self, key, axis)\u001b[0m\n\u001b[1;32m   1841\u001b[0m             \u001b[0;31m# nested tuple slicing\u001b[0m\u001b[0;34m\u001b[0m\u001b[0;34m\u001b[0m\u001b[0;34m\u001b[0m\u001b[0m\n\u001b[1;32m   1842\u001b[0m             \u001b[0;32mif\u001b[0m \u001b[0mis_nested_tuple\u001b[0m\u001b[0;34m(\u001b[0m\u001b[0mkey\u001b[0m\u001b[0;34m,\u001b[0m \u001b[0mlabels\u001b[0m\u001b[0;34m)\u001b[0m\u001b[0;34m:\u001b[0m\u001b[0;34m\u001b[0m\u001b[0;34m\u001b[0m\u001b[0m\n\u001b[0;32m-> 1843\u001b[0;31m                 \u001b[0mlocs\u001b[0m \u001b[0;34m=\u001b[0m \u001b[0mlabels\u001b[0m\u001b[0;34m.\u001b[0m\u001b[0mget_locs\u001b[0m\u001b[0;34m(\u001b[0m\u001b[0mkey\u001b[0m\u001b[0;34m)\u001b[0m\u001b[0;34m\u001b[0m\u001b[0;34m\u001b[0m\u001b[0m\n\u001b[0m\u001b[1;32m   1844\u001b[0m                 \u001b[0mindexer\u001b[0m \u001b[0;34m=\u001b[0m \u001b[0;34m[\u001b[0m\u001b[0mslice\u001b[0m\u001b[0;34m(\u001b[0m\u001b[0;32mNone\u001b[0m\u001b[0;34m)\u001b[0m\u001b[0;34m]\u001b[0m \u001b[0;34m*\u001b[0m \u001b[0mself\u001b[0m\u001b[0;34m.\u001b[0m\u001b[0mndim\u001b[0m\u001b[0;34m\u001b[0m\u001b[0;34m\u001b[0m\u001b[0m\n\u001b[1;32m   1845\u001b[0m                 \u001b[0mindexer\u001b[0m\u001b[0;34m[\u001b[0m\u001b[0maxis\u001b[0m\u001b[0;34m]\u001b[0m \u001b[0;34m=\u001b[0m \u001b[0mlocs\u001b[0m\u001b[0;34m\u001b[0m\u001b[0;34m\u001b[0m\u001b[0m\n",
      "\u001b[0;32m/opt/anaconda3/lib/python3.7/site-packages/pandas/core/indexes/multi.py\u001b[0m in \u001b[0;36mget_locs\u001b[0;34m(self, seq)\u001b[0m\n\u001b[1;32m   3040\u001b[0m                     \u001b[0;32mtry\u001b[0m\u001b[0;34m:\u001b[0m\u001b[0;34m\u001b[0m\u001b[0;34m\u001b[0m\u001b[0m\n\u001b[1;32m   3041\u001b[0m                         idxrs = _convert_to_indexer(\n\u001b[0;32m-> 3042\u001b[0;31m                             \u001b[0mself\u001b[0m\u001b[0;34m.\u001b[0m\u001b[0m_get_level_indexer\u001b[0m\u001b[0;34m(\u001b[0m\u001b[0mx\u001b[0m\u001b[0;34m,\u001b[0m \u001b[0mlevel\u001b[0m\u001b[0;34m=\u001b[0m\u001b[0mi\u001b[0m\u001b[0;34m,\u001b[0m \u001b[0mindexer\u001b[0m\u001b[0;34m=\u001b[0m\u001b[0mindexer\u001b[0m\u001b[0;34m)\u001b[0m\u001b[0;34m\u001b[0m\u001b[0;34m\u001b[0m\u001b[0m\n\u001b[0m\u001b[1;32m   3043\u001b[0m                         )\n\u001b[1;32m   3044\u001b[0m                         \u001b[0mindexers\u001b[0m \u001b[0;34m=\u001b[0m \u001b[0midxrs\u001b[0m \u001b[0;32mif\u001b[0m \u001b[0mindexers\u001b[0m \u001b[0;32mis\u001b[0m \u001b[0;32mNone\u001b[0m \u001b[0;32melse\u001b[0m \u001b[0mindexers\u001b[0m \u001b[0;34m|\u001b[0m \u001b[0midxrs\u001b[0m\u001b[0;34m\u001b[0m\u001b[0;34m\u001b[0m\u001b[0m\n",
      "\u001b[0;32m/opt/anaconda3/lib/python3.7/site-packages/pandas/core/indexes/multi.py\u001b[0m in \u001b[0;36m_get_level_indexer\u001b[0;34m(self, key, level, indexer)\u001b[0m\n\u001b[1;32m   2937\u001b[0m         \u001b[0;32melse\u001b[0m\u001b[0;34m:\u001b[0m\u001b[0;34m\u001b[0m\u001b[0;34m\u001b[0m\u001b[0m\n\u001b[1;32m   2938\u001b[0m \u001b[0;34m\u001b[0m\u001b[0m\n\u001b[0;32m-> 2939\u001b[0;31m             \u001b[0mcode\u001b[0m \u001b[0;34m=\u001b[0m \u001b[0mlevel_index\u001b[0m\u001b[0;34m.\u001b[0m\u001b[0mget_loc\u001b[0m\u001b[0;34m(\u001b[0m\u001b[0mkey\u001b[0m\u001b[0;34m)\u001b[0m\u001b[0;34m\u001b[0m\u001b[0;34m\u001b[0m\u001b[0m\n\u001b[0m\u001b[1;32m   2940\u001b[0m \u001b[0;34m\u001b[0m\u001b[0m\n\u001b[1;32m   2941\u001b[0m             \u001b[0;32mif\u001b[0m \u001b[0mlevel\u001b[0m \u001b[0;34m>\u001b[0m \u001b[0;36m0\u001b[0m \u001b[0;32mor\u001b[0m \u001b[0mself\u001b[0m\u001b[0;34m.\u001b[0m\u001b[0mlexsort_depth\u001b[0m \u001b[0;34m==\u001b[0m \u001b[0;36m0\u001b[0m\u001b[0;34m:\u001b[0m\u001b[0;34m\u001b[0m\u001b[0;34m\u001b[0m\u001b[0m\n",
      "\u001b[0;32m/opt/anaconda3/lib/python3.7/site-packages/pandas/core/indexes/base.py\u001b[0m in \u001b[0;36mget_loc\u001b[0;34m(self, key, method, tolerance)\u001b[0m\n\u001b[1;32m   2895\u001b[0m                 )\n\u001b[1;32m   2896\u001b[0m             \u001b[0;32mtry\u001b[0m\u001b[0;34m:\u001b[0m\u001b[0;34m\u001b[0m\u001b[0;34m\u001b[0m\u001b[0m\n\u001b[0;32m-> 2897\u001b[0;31m                 \u001b[0;32mreturn\u001b[0m \u001b[0mself\u001b[0m\u001b[0;34m.\u001b[0m\u001b[0m_engine\u001b[0m\u001b[0;34m.\u001b[0m\u001b[0mget_loc\u001b[0m\u001b[0;34m(\u001b[0m\u001b[0mkey\u001b[0m\u001b[0;34m)\u001b[0m\u001b[0;34m\u001b[0m\u001b[0;34m\u001b[0m\u001b[0m\n\u001b[0m\u001b[1;32m   2898\u001b[0m             \u001b[0;32mexcept\u001b[0m \u001b[0mKeyError\u001b[0m\u001b[0;34m:\u001b[0m\u001b[0;34m\u001b[0m\u001b[0;34m\u001b[0m\u001b[0m\n\u001b[1;32m   2899\u001b[0m                 \u001b[0;32mreturn\u001b[0m \u001b[0mself\u001b[0m\u001b[0;34m.\u001b[0m\u001b[0m_engine\u001b[0m\u001b[0;34m.\u001b[0m\u001b[0mget_loc\u001b[0m\u001b[0;34m(\u001b[0m\u001b[0mself\u001b[0m\u001b[0;34m.\u001b[0m\u001b[0m_maybe_cast_indexer\u001b[0m\u001b[0;34m(\u001b[0m\u001b[0mkey\u001b[0m\u001b[0;34m)\u001b[0m\u001b[0;34m)\u001b[0m\u001b[0;34m\u001b[0m\u001b[0;34m\u001b[0m\u001b[0m\n",
      "\u001b[0;32mpandas/_libs/index.pyx\u001b[0m in \u001b[0;36mpandas._libs.index.IndexEngine.get_loc\u001b[0;34m()\u001b[0m\n",
      "\u001b[0;32mpandas/_libs/index.pyx\u001b[0m in \u001b[0;36mpandas._libs.index.IndexEngine.get_loc\u001b[0;34m()\u001b[0m\n",
      "\u001b[0;31mTypeError\u001b[0m: '['call', 'put']' is an invalid key"
     ]
    }
   ],
   "source": [
    "hfinal=pd.concat([call,k],keys=['call', 'put'])\n",
    "final=hfinal.loc[[(['call','put']),([ATM,CALLOTM,PUTOTM])]]\n",
    "hfinal.to_excel(\"out1.xls\")"
   ]
  },
  {
   "cell_type": "code",
   "execution_count": 111,
   "metadata": {},
   "outputs": [],
   "source": [
    "profitfinal=hfinal.loc[(['call','put'],[ATM,CALLOTM,PUTOTM]),:]\n",
    "profitfinal.to_excel(\"out.xls\")\n",
    "\n",
    "\n"
   ]
  },
  {
   "cell_type": "code",
   "execution_count": 164,
   "metadata": {},
   "outputs": [
    {
     "output_type": "execute_result",
     "data": {
      "text/plain": [
       "           01-Jan-2021 04-Jan-2021 05-Jan-2021 06-Jan-2021 07-Jan-2021  \\\n",
       "call 13550       678.3      695.95         750      738.05      723.55   \n",
       "     14050       280.3       326.7       362.4      349.05       328.7   \n",
       "     13050      1069.6     1153.25      1197.4      1182.4      1147.8   \n",
       "put  13550      117.15       85.65       81.15       83.05       68.95   \n",
       "     14050       277.6       216.5         199       208.7      189.55   \n",
       "     13050          41       30.25       29.75       29.85       22.65   \n",
       "\n",
       "           08-Jan-2021 11-Jan-2021 12-Jan-2021 13-Jan-2021 14-Jan-2021  \\\n",
       "call 13550      889.95      971.35        1086      1058.5     1083.05   \n",
       "     14050       442.8         540       632.4       617.3       644.6   \n",
       "     13050      1341.9     1466.35     1541.25     1540.35     1568.65   \n",
       "put  13550       46.85       42.25        36.1        30.4        24.2   \n",
       "     14050      127.45       107.1       85.25       75.75       61.15   \n",
       "     13050        16.6        16.7        14.6       12.25       11.35   \n",
       "\n",
       "           15-Jan-2021 18-Jan-2021 19-Jan-2021 20-Jan-2021 21-Jan-2021  \\\n",
       "call 13550      926.65      770.05      991.95     1109.75      1103.5   \n",
       "     14050       507.1      377.15      555.45      614.15      594.85   \n",
       "     13050     1406.15     1248.55     1485.15      1606.9      1541.4   \n",
       "put  13550        33.8       37.45        12.8        6.35        10.6   \n",
       "     14050        93.2      118.15       41.25       20.35       31.15   \n",
       "     13050        12.4       11.95        5.35        2.55        4.45   \n",
       "\n",
       "           22-Jan-2021 25-Jan-2021 27-Jan-2021 28-Jan-2021  \n",
       "call 13550      835.75      694.75      440.35     13817.5  \n",
       "     14050      373.65       245.2       36.55     13817.5  \n",
       "     13050      1359.5     1182.85         919     13817.5  \n",
       "put  13550        6.25         2.8         3.4     13817.5  \n",
       "     14050       43.85       36.35      103.75     13817.5  \n",
       "     13050         2.4         1.4        1.35     13817.5  "
      ],
      "text/html": "<div>\n<style scoped>\n    .dataframe tbody tr th:only-of-type {\n        vertical-align: middle;\n    }\n\n    .dataframe tbody tr th {\n        vertical-align: top;\n    }\n\n    .dataframe thead th {\n        text-align: right;\n    }\n</style>\n<table border=\"1\" class=\"dataframe\">\n  <thead>\n    <tr style=\"text-align: right;\">\n      <th></th>\n      <th></th>\n      <th>01-Jan-2021</th>\n      <th>04-Jan-2021</th>\n      <th>05-Jan-2021</th>\n      <th>06-Jan-2021</th>\n      <th>07-Jan-2021</th>\n      <th>08-Jan-2021</th>\n      <th>11-Jan-2021</th>\n      <th>12-Jan-2021</th>\n      <th>13-Jan-2021</th>\n      <th>14-Jan-2021</th>\n      <th>15-Jan-2021</th>\n      <th>18-Jan-2021</th>\n      <th>19-Jan-2021</th>\n      <th>20-Jan-2021</th>\n      <th>21-Jan-2021</th>\n      <th>22-Jan-2021</th>\n      <th>25-Jan-2021</th>\n      <th>27-Jan-2021</th>\n      <th>28-Jan-2021</th>\n    </tr>\n  </thead>\n  <tbody>\n    <tr>\n      <td rowspan=\"3\" valign=\"top\">call</td>\n      <td>13550</td>\n      <td>678.3</td>\n      <td>695.95</td>\n      <td>750</td>\n      <td>738.05</td>\n      <td>723.55</td>\n      <td>889.95</td>\n      <td>971.35</td>\n      <td>1086</td>\n      <td>1058.5</td>\n      <td>1083.05</td>\n      <td>926.65</td>\n      <td>770.05</td>\n      <td>991.95</td>\n      <td>1109.75</td>\n      <td>1103.5</td>\n      <td>835.75</td>\n      <td>694.75</td>\n      <td>440.35</td>\n      <td>13817.5</td>\n    </tr>\n    <tr>\n      <td>14050</td>\n      <td>280.3</td>\n      <td>326.7</td>\n      <td>362.4</td>\n      <td>349.05</td>\n      <td>328.7</td>\n      <td>442.8</td>\n      <td>540</td>\n      <td>632.4</td>\n      <td>617.3</td>\n      <td>644.6</td>\n      <td>507.1</td>\n      <td>377.15</td>\n      <td>555.45</td>\n      <td>614.15</td>\n      <td>594.85</td>\n      <td>373.65</td>\n      <td>245.2</td>\n      <td>36.55</td>\n      <td>13817.5</td>\n    </tr>\n    <tr>\n      <td>13050</td>\n      <td>1069.6</td>\n      <td>1153.25</td>\n      <td>1197.4</td>\n      <td>1182.4</td>\n      <td>1147.8</td>\n      <td>1341.9</td>\n      <td>1466.35</td>\n      <td>1541.25</td>\n      <td>1540.35</td>\n      <td>1568.65</td>\n      <td>1406.15</td>\n      <td>1248.55</td>\n      <td>1485.15</td>\n      <td>1606.9</td>\n      <td>1541.4</td>\n      <td>1359.5</td>\n      <td>1182.85</td>\n      <td>919</td>\n      <td>13817.5</td>\n    </tr>\n    <tr>\n      <td rowspan=\"3\" valign=\"top\">put</td>\n      <td>13550</td>\n      <td>117.15</td>\n      <td>85.65</td>\n      <td>81.15</td>\n      <td>83.05</td>\n      <td>68.95</td>\n      <td>46.85</td>\n      <td>42.25</td>\n      <td>36.1</td>\n      <td>30.4</td>\n      <td>24.2</td>\n      <td>33.8</td>\n      <td>37.45</td>\n      <td>12.8</td>\n      <td>6.35</td>\n      <td>10.6</td>\n      <td>6.25</td>\n      <td>2.8</td>\n      <td>3.4</td>\n      <td>13817.5</td>\n    </tr>\n    <tr>\n      <td>14050</td>\n      <td>277.6</td>\n      <td>216.5</td>\n      <td>199</td>\n      <td>208.7</td>\n      <td>189.55</td>\n      <td>127.45</td>\n      <td>107.1</td>\n      <td>85.25</td>\n      <td>75.75</td>\n      <td>61.15</td>\n      <td>93.2</td>\n      <td>118.15</td>\n      <td>41.25</td>\n      <td>20.35</td>\n      <td>31.15</td>\n      <td>43.85</td>\n      <td>36.35</td>\n      <td>103.75</td>\n      <td>13817.5</td>\n    </tr>\n    <tr>\n      <td>13050</td>\n      <td>41</td>\n      <td>30.25</td>\n      <td>29.75</td>\n      <td>29.85</td>\n      <td>22.65</td>\n      <td>16.6</td>\n      <td>16.7</td>\n      <td>14.6</td>\n      <td>12.25</td>\n      <td>11.35</td>\n      <td>12.4</td>\n      <td>11.95</td>\n      <td>5.35</td>\n      <td>2.55</td>\n      <td>4.45</td>\n      <td>2.4</td>\n      <td>1.4</td>\n      <td>1.35</td>\n      <td>13817.5</td>\n    </tr>\n  </tbody>\n</table>\n</div>"
     },
     "metadata": {},
     "execution_count": 164
    }
   ],
   "source": [
    "profitfinal"
   ]
  },
  {
   "cell_type": "code",
   "execution_count": 112,
   "metadata": {},
   "outputs": [
    {
     "output_type": "execute_result",
     "data": {
      "text/plain": [
       "           01-Jan-2021 04-Jan-2021 05-Jan-2021 06-Jan-2021 07-Jan-2021  \\\n",
       "call 13550       678.3      695.95         750      738.05      723.55   \n",
       "     14050       280.3       326.7       362.4      349.05       328.7   \n",
       "     13050      1069.6     1153.25      1197.4      1182.4      1147.8   \n",
       "put  13550      117.15       85.65       81.15       83.05       68.95   \n",
       "     14050       277.6       216.5         199       208.7      189.55   \n",
       "     13050          41       30.25       29.75       29.85       22.65   \n",
       "\n",
       "           08-Jan-2021 11-Jan-2021 12-Jan-2021 13-Jan-2021 14-Jan-2021  \\\n",
       "call 13550      889.95      971.35        1086      1058.5     1083.05   \n",
       "     14050       442.8         540       632.4       617.3       644.6   \n",
       "     13050      1341.9     1466.35     1541.25     1540.35     1568.65   \n",
       "put  13550       46.85       42.25        36.1        30.4        24.2   \n",
       "     14050      127.45       107.1       85.25       75.75       61.15   \n",
       "     13050        16.6        16.7        14.6       12.25       11.35   \n",
       "\n",
       "           15-Jan-2021 18-Jan-2021 19-Jan-2021 20-Jan-2021 21-Jan-2021  \\\n",
       "call 13550      926.65      770.05      991.95     1109.75      1103.5   \n",
       "     14050       507.1      377.15      555.45      614.15      594.85   \n",
       "     13050     1406.15     1248.55     1485.15      1606.9      1541.4   \n",
       "put  13550        33.8       37.45        12.8        6.35        10.6   \n",
       "     14050        93.2      118.15       41.25       20.35       31.15   \n",
       "     13050        12.4       11.95        5.35        2.55        4.45   \n",
       "\n",
       "           22-Jan-2021 25-Jan-2021 27-Jan-2021 28-Jan-2021  \n",
       "call 13550      835.75      694.75      440.35     13817.5  \n",
       "     14050      373.65       245.2       36.55     13817.5  \n",
       "     13050      1359.5     1182.85         919     13817.5  \n",
       "put  13550        6.25         2.8         3.4     13817.5  \n",
       "     14050       43.85       36.35      103.75     13817.5  \n",
       "     13050         2.4         1.4        1.35     13817.5  "
      ],
      "text/html": "<div>\n<style scoped>\n    .dataframe tbody tr th:only-of-type {\n        vertical-align: middle;\n    }\n\n    .dataframe tbody tr th {\n        vertical-align: top;\n    }\n\n    .dataframe thead th {\n        text-align: right;\n    }\n</style>\n<table border=\"1\" class=\"dataframe\">\n  <thead>\n    <tr style=\"text-align: right;\">\n      <th></th>\n      <th></th>\n      <th>01-Jan-2021</th>\n      <th>04-Jan-2021</th>\n      <th>05-Jan-2021</th>\n      <th>06-Jan-2021</th>\n      <th>07-Jan-2021</th>\n      <th>08-Jan-2021</th>\n      <th>11-Jan-2021</th>\n      <th>12-Jan-2021</th>\n      <th>13-Jan-2021</th>\n      <th>14-Jan-2021</th>\n      <th>15-Jan-2021</th>\n      <th>18-Jan-2021</th>\n      <th>19-Jan-2021</th>\n      <th>20-Jan-2021</th>\n      <th>21-Jan-2021</th>\n      <th>22-Jan-2021</th>\n      <th>25-Jan-2021</th>\n      <th>27-Jan-2021</th>\n      <th>28-Jan-2021</th>\n    </tr>\n  </thead>\n  <tbody>\n    <tr>\n      <td rowspan=\"3\" valign=\"top\">call</td>\n      <td>13550</td>\n      <td>678.3</td>\n      <td>695.95</td>\n      <td>750</td>\n      <td>738.05</td>\n      <td>723.55</td>\n      <td>889.95</td>\n      <td>971.35</td>\n      <td>1086</td>\n      <td>1058.5</td>\n      <td>1083.05</td>\n      <td>926.65</td>\n      <td>770.05</td>\n      <td>991.95</td>\n      <td>1109.75</td>\n      <td>1103.5</td>\n      <td>835.75</td>\n      <td>694.75</td>\n      <td>440.35</td>\n      <td>13817.5</td>\n    </tr>\n    <tr>\n      <td>14050</td>\n      <td>280.3</td>\n      <td>326.7</td>\n      <td>362.4</td>\n      <td>349.05</td>\n      <td>328.7</td>\n      <td>442.8</td>\n      <td>540</td>\n      <td>632.4</td>\n      <td>617.3</td>\n      <td>644.6</td>\n      <td>507.1</td>\n      <td>377.15</td>\n      <td>555.45</td>\n      <td>614.15</td>\n      <td>594.85</td>\n      <td>373.65</td>\n      <td>245.2</td>\n      <td>36.55</td>\n      <td>13817.5</td>\n    </tr>\n    <tr>\n      <td>13050</td>\n      <td>1069.6</td>\n      <td>1153.25</td>\n      <td>1197.4</td>\n      <td>1182.4</td>\n      <td>1147.8</td>\n      <td>1341.9</td>\n      <td>1466.35</td>\n      <td>1541.25</td>\n      <td>1540.35</td>\n      <td>1568.65</td>\n      <td>1406.15</td>\n      <td>1248.55</td>\n      <td>1485.15</td>\n      <td>1606.9</td>\n      <td>1541.4</td>\n      <td>1359.5</td>\n      <td>1182.85</td>\n      <td>919</td>\n      <td>13817.5</td>\n    </tr>\n    <tr>\n      <td rowspan=\"3\" valign=\"top\">put</td>\n      <td>13550</td>\n      <td>117.15</td>\n      <td>85.65</td>\n      <td>81.15</td>\n      <td>83.05</td>\n      <td>68.95</td>\n      <td>46.85</td>\n      <td>42.25</td>\n      <td>36.1</td>\n      <td>30.4</td>\n      <td>24.2</td>\n      <td>33.8</td>\n      <td>37.45</td>\n      <td>12.8</td>\n      <td>6.35</td>\n      <td>10.6</td>\n      <td>6.25</td>\n      <td>2.8</td>\n      <td>3.4</td>\n      <td>13817.5</td>\n    </tr>\n    <tr>\n      <td>14050</td>\n      <td>277.6</td>\n      <td>216.5</td>\n      <td>199</td>\n      <td>208.7</td>\n      <td>189.55</td>\n      <td>127.45</td>\n      <td>107.1</td>\n      <td>85.25</td>\n      <td>75.75</td>\n      <td>61.15</td>\n      <td>93.2</td>\n      <td>118.15</td>\n      <td>41.25</td>\n      <td>20.35</td>\n      <td>31.15</td>\n      <td>43.85</td>\n      <td>36.35</td>\n      <td>103.75</td>\n      <td>13817.5</td>\n    </tr>\n    <tr>\n      <td>13050</td>\n      <td>41</td>\n      <td>30.25</td>\n      <td>29.75</td>\n      <td>29.85</td>\n      <td>22.65</td>\n      <td>16.6</td>\n      <td>16.7</td>\n      <td>14.6</td>\n      <td>12.25</td>\n      <td>11.35</td>\n      <td>12.4</td>\n      <td>11.95</td>\n      <td>5.35</td>\n      <td>2.55</td>\n      <td>4.45</td>\n      <td>2.4</td>\n      <td>1.4</td>\n      <td>1.35</td>\n      <td>13817.5</td>\n    </tr>\n  </tbody>\n</table>\n</div>"
     },
     "metadata": {},
     "execution_count": 112
    }
   ],
   "source": [
    "hfinal.loc[(['call','put'],[ATM,CALLOTM,PUTOTM]),:]"
   ]
  },
  {
   "cell_type": "code",
   "execution_count": 141,
   "metadata": {},
   "outputs": [
    {
     "output_type": "execute_result",
     "data": {
      "text/plain": [
       "0.0"
      ]
     },
     "metadata": {},
     "execution_count": 141
    }
   ],
   "source": [
    "#callotm_pf\n",
    "prof_calotm=[]\n",
    "prof_calatm=[]\n",
    "prof=[]\n",
    "atmprice_day1=profitfinal.loc[('call',ATM),profitfinal.columns[0]]\n",
    "otmprice_day1=profitfinal.loc[('call',CALLOTM),profitfinal.columns[0]]\n",
    "for index,i in enumerate(profitfinal.columns):\n",
    "    atmprice_day_FINAL=profitfinal.loc[('call',ATM),i]\n",
    "    otmprice_day_FINAL=profitfinal.loc[('call',CALLOTM),i]\n",
    "    prof_calotm.append(otmprice_day_FINAL-otmprice_day1)\n",
    "    prof_calatm.append(atmprice_day1-atmprice_day_FINAL)\n",
    "    prof.append(prof_calotm[index]+prof_calatm[index])\n",
    "\n",
    "\n",
    "\n",
    "\n"
   ]
  },
  {
   "cell_type": "code",
   "execution_count": 142,
   "metadata": {},
   "outputs": [],
   "source": [
    "#putotm_pf\n",
    "prof_putotm=[]\n",
    "prof_putatm=[]\n",
    "profP=[]\n",
    "atmprice_day1P=profitfinal.loc[('put',ATM),profitfinal.columns[0]]\n",
    "otmprice_day1P=profitfinal.loc[('put',PUTOTM),profitfinal.columns[0]]\n",
    "for index,i in enumerate(profitfinal.columns):\n",
    "\n",
    "    atmprice_day_FINALP=profitfinal.loc[('put',ATM),i]\n",
    "    otmprice_day_FINALP=profitfinal.loc[('put',CALLOTM),i]\n",
    "\n",
    "    prof_putotm.append(otmprice_day_FINALP-otmprice_day1P)\n",
    "    prof_putatm.append(atmprice_day1P-atmprice_day_FINALP)\n",
    "    profP.append(prof_putotm[index]+prof_putatm[index])\n",
    "\n",
    "\n",
    "\n"
   ]
  },
  {
   "cell_type": "code",
   "execution_count": 250,
   "metadata": {},
   "outputs": [
    {
     "output_type": "execute_result",
     "data": {
      "text/plain": [
       "                    01-Jan-2021  04-Jan-2021  05-Jan-2021  06-Jan-2021  \\\n",
       "CALL OTM PROFITS            0.0        46.40         82.1        68.75   \n",
       "CALL ATM PROFITS            0.0       -17.65        -71.7       -59.75   \n",
       "TOTAL CALL PROFITS          0.0        28.75         10.4         9.00   \n",
       "PUT OTM PROFITS           236.6       175.50        158.0       167.70   \n",
       "PUT ATM PROFITS             0.0        31.50         36.0        34.10   \n",
       "TOTAL PUT PROFITS         236.6       207.00        194.0       201.80   \n",
       "\n",
       "                    07-Jan-2021  08-Jan-2021  11-Jan-2021  12-Jan-2021  \\\n",
       "CALL OTM PROFITS          48.40       162.50       259.70       352.10   \n",
       "CALL ATM PROFITS         -45.25      -211.65      -293.05      -407.70   \n",
       "TOTAL CALL PROFITS         3.15       -49.15       -33.35       -55.60   \n",
       "PUT OTM PROFITS          148.55        86.45        66.10        44.25   \n",
       "PUT ATM PROFITS           48.20        70.30        74.90        81.05   \n",
       "TOTAL PUT PROFITS        196.75       156.75       141.00       125.30   \n",
       "\n",
       "                    13-Jan-2021  14-Jan-2021  15-Jan-2021  18-Jan-2021  \\\n",
       "CALL OTM PROFITS         337.00       364.30       226.80        96.85   \n",
       "CALL ATM PROFITS        -380.20      -404.75      -248.35       -91.75   \n",
       "TOTAL CALL PROFITS       -43.20       -40.45       -21.55         5.10   \n",
       "PUT OTM PROFITS           34.75        20.15        52.20        77.15   \n",
       "PUT ATM PROFITS           86.75        92.95        83.35        79.70   \n",
       "TOTAL PUT PROFITS        121.50       113.10       135.55       156.85   \n",
       "\n",
       "                    19-Jan-2021  20-Jan-2021  21-Jan-2021  22-Jan-2021  \\\n",
       "CALL OTM PROFITS         275.15       333.85       314.55        93.35   \n",
       "CALL ATM PROFITS        -313.65      -431.45      -425.20      -157.45   \n",
       "TOTAL CALL PROFITS       -38.50       -97.60      -110.65       -64.10   \n",
       "PUT OTM PROFITS            0.25       -20.65        -9.85         2.85   \n",
       "PUT ATM PROFITS          104.35       110.80       106.55       110.90   \n",
       "TOTAL PUT PROFITS        104.60        90.15        96.70       113.75   \n",
       "\n",
       "                    25-Jan-2021  27-Jan-2021  28-Jan-2021  \n",
       "CALL OTM PROFITS         -35.10      -243.75     13537.25  \n",
       "CALL ATM PROFITS         -16.45       237.95    -13139.25  \n",
       "TOTAL CALL PROFITS       -51.55        -5.80       398.00  \n",
       "PUT OTM PROFITS           -4.65        62.75     13776.55  \n",
       "PUT ATM PROFITS          114.35       113.75    -13700.40  \n",
       "TOTAL PUT PROFITS        109.70       176.50        76.15  "
      ],
      "text/html": "<div>\n<style scoped>\n    .dataframe tbody tr th:only-of-type {\n        vertical-align: middle;\n    }\n\n    .dataframe tbody tr th {\n        vertical-align: top;\n    }\n\n    .dataframe thead th {\n        text-align: right;\n    }\n</style>\n<table border=\"1\" class=\"dataframe\">\n  <thead>\n    <tr style=\"text-align: right;\">\n      <th></th>\n      <th>01-Jan-2021</th>\n      <th>04-Jan-2021</th>\n      <th>05-Jan-2021</th>\n      <th>06-Jan-2021</th>\n      <th>07-Jan-2021</th>\n      <th>08-Jan-2021</th>\n      <th>11-Jan-2021</th>\n      <th>12-Jan-2021</th>\n      <th>13-Jan-2021</th>\n      <th>14-Jan-2021</th>\n      <th>15-Jan-2021</th>\n      <th>18-Jan-2021</th>\n      <th>19-Jan-2021</th>\n      <th>20-Jan-2021</th>\n      <th>21-Jan-2021</th>\n      <th>22-Jan-2021</th>\n      <th>25-Jan-2021</th>\n      <th>27-Jan-2021</th>\n      <th>28-Jan-2021</th>\n    </tr>\n  </thead>\n  <tbody>\n    <tr>\n      <td>CALL OTM PROFITS</td>\n      <td>0.0</td>\n      <td>46.40</td>\n      <td>82.1</td>\n      <td>68.75</td>\n      <td>48.40</td>\n      <td>162.50</td>\n      <td>259.70</td>\n      <td>352.10</td>\n      <td>337.00</td>\n      <td>364.30</td>\n      <td>226.80</td>\n      <td>96.85</td>\n      <td>275.15</td>\n      <td>333.85</td>\n      <td>314.55</td>\n      <td>93.35</td>\n      <td>-35.10</td>\n      <td>-243.75</td>\n      <td>13537.25</td>\n    </tr>\n    <tr>\n      <td>CALL ATM PROFITS</td>\n      <td>0.0</td>\n      <td>-17.65</td>\n      <td>-71.7</td>\n      <td>-59.75</td>\n      <td>-45.25</td>\n      <td>-211.65</td>\n      <td>-293.05</td>\n      <td>-407.70</td>\n      <td>-380.20</td>\n      <td>-404.75</td>\n      <td>-248.35</td>\n      <td>-91.75</td>\n      <td>-313.65</td>\n      <td>-431.45</td>\n      <td>-425.20</td>\n      <td>-157.45</td>\n      <td>-16.45</td>\n      <td>237.95</td>\n      <td>-13139.25</td>\n    </tr>\n    <tr>\n      <td>TOTAL CALL PROFITS</td>\n      <td>0.0</td>\n      <td>28.75</td>\n      <td>10.4</td>\n      <td>9.00</td>\n      <td>3.15</td>\n      <td>-49.15</td>\n      <td>-33.35</td>\n      <td>-55.60</td>\n      <td>-43.20</td>\n      <td>-40.45</td>\n      <td>-21.55</td>\n      <td>5.10</td>\n      <td>-38.50</td>\n      <td>-97.60</td>\n      <td>-110.65</td>\n      <td>-64.10</td>\n      <td>-51.55</td>\n      <td>-5.80</td>\n      <td>398.00</td>\n    </tr>\n    <tr>\n      <td>PUT OTM PROFITS</td>\n      <td>236.6</td>\n      <td>175.50</td>\n      <td>158.0</td>\n      <td>167.70</td>\n      <td>148.55</td>\n      <td>86.45</td>\n      <td>66.10</td>\n      <td>44.25</td>\n      <td>34.75</td>\n      <td>20.15</td>\n      <td>52.20</td>\n      <td>77.15</td>\n      <td>0.25</td>\n      <td>-20.65</td>\n      <td>-9.85</td>\n      <td>2.85</td>\n      <td>-4.65</td>\n      <td>62.75</td>\n      <td>13776.55</td>\n    </tr>\n    <tr>\n      <td>PUT ATM PROFITS</td>\n      <td>0.0</td>\n      <td>31.50</td>\n      <td>36.0</td>\n      <td>34.10</td>\n      <td>48.20</td>\n      <td>70.30</td>\n      <td>74.90</td>\n      <td>81.05</td>\n      <td>86.75</td>\n      <td>92.95</td>\n      <td>83.35</td>\n      <td>79.70</td>\n      <td>104.35</td>\n      <td>110.80</td>\n      <td>106.55</td>\n      <td>110.90</td>\n      <td>114.35</td>\n      <td>113.75</td>\n      <td>-13700.40</td>\n    </tr>\n    <tr>\n      <td>TOTAL PUT PROFITS</td>\n      <td>236.6</td>\n      <td>207.00</td>\n      <td>194.0</td>\n      <td>201.80</td>\n      <td>196.75</td>\n      <td>156.75</td>\n      <td>141.00</td>\n      <td>125.30</td>\n      <td>121.50</td>\n      <td>113.10</td>\n      <td>135.55</td>\n      <td>156.85</td>\n      <td>104.60</td>\n      <td>90.15</td>\n      <td>96.70</td>\n      <td>113.75</td>\n      <td>109.70</td>\n      <td>176.50</td>\n      <td>76.15</td>\n    </tr>\n  </tbody>\n</table>\n</div>"
     },
     "metadata": {},
     "execution_count": 250
    }
   ],
   "source": [
    "zz=pd.DataFrame(list(zip(prof_calotm,prof_calatm,prof,prof_putotm,prof_putatm,profP)),columns=['CALL OTM PROFITS','CALL ATM PROFITS','TOTAL CALL PROFITS','PUT OTM PROFITS','PUT ATM PROFITS','TOTAL PUT PROFITS'],index=profitfinal.columns)\n",
    "ff=zz.T\n",
    "ff\n"
   ]
  },
  {
   "cell_type": "code",
   "execution_count": 245,
   "metadata": {},
   "outputs": [],
   "source": [
    "finaltoH=pd.concat([profitfinal,ff],keys=['Data','Profits'])\n",
    "finaltoH.to_excel(\"out.xls\")\n",
    "\n"
   ]
  },
  {
   "cell_type": "code",
   "execution_count": 123,
   "metadata": {},
   "outputs": [
    {
     "output_type": "execute_result",
     "data": {
      "text/plain": [
       "678.3"
      ]
     },
     "metadata": {},
     "execution_count": 123
    }
   ],
   "source": [
    "profitfinal.loc[('call',ATM),profitfinal.columns[0]]"
   ]
  },
  {
   "cell_type": "code",
   "execution_count": 242,
   "metadata": {},
   "outputs": [
    {
     "output_type": "execute_result",
     "data": {
      "text/plain": [
       "                         01-Jan-2021  04-Jan-2021  05-Jan-2021  06-Jan-2021  \\\n",
       "            new_col                                                           \n",
       "prof        prof                 0.0        28.75         10.4         9.00   \n",
       "profP       profP              236.6       207.00        194.0       201.80   \n",
       "prof_calatm prof_calatm          0.0       -17.65        -71.7       -59.75   \n",
       "prof_calotm prof_calotm          0.0        46.40         82.1        68.75   \n",
       "prof_putatm prof_putatm          0.0        31.50         36.0        34.10   \n",
       "prof_putotm prof_putotm        236.6       175.50        158.0       167.70   \n",
       "\n",
       "                         07-Jan-2021  08-Jan-2021  11-Jan-2021  12-Jan-2021  \\\n",
       "            new_col                                                           \n",
       "prof        prof                3.15       -49.15       -33.35       -55.60   \n",
       "profP       profP             196.75       156.75       141.00       125.30   \n",
       "prof_calatm prof_calatm       -45.25      -211.65      -293.05      -407.70   \n",
       "prof_calotm prof_calotm        48.40       162.50       259.70       352.10   \n",
       "prof_putatm prof_putatm        48.20        70.30        74.90        81.05   \n",
       "prof_putotm prof_putotm       148.55        86.45        66.10        44.25   \n",
       "\n",
       "                         13-Jan-2021  14-Jan-2021  15-Jan-2021  18-Jan-2021  \\\n",
       "            new_col                                                           \n",
       "prof        prof              -43.20       -40.45       -21.55         5.10   \n",
       "profP       profP             121.50       113.10       135.55       156.85   \n",
       "prof_calatm prof_calatm      -380.20      -404.75      -248.35       -91.75   \n",
       "prof_calotm prof_calotm       337.00       364.30       226.80        96.85   \n",
       "prof_putatm prof_putatm        86.75        92.95        83.35        79.70   \n",
       "prof_putotm prof_putotm        34.75        20.15        52.20        77.15   \n",
       "\n",
       "                         19-Jan-2021  20-Jan-2021  21-Jan-2021  22-Jan-2021  \\\n",
       "            new_col                                                           \n",
       "prof        prof              -38.50       -97.60      -110.65       -64.10   \n",
       "profP       profP             104.60        90.15        96.70       113.75   \n",
       "prof_calatm prof_calatm      -313.65      -431.45      -425.20      -157.45   \n",
       "prof_calotm prof_calotm       275.15       333.85       314.55        93.35   \n",
       "prof_putatm prof_putatm       104.35       110.80       106.55       110.90   \n",
       "prof_putotm prof_putotm         0.25       -20.65        -9.85         2.85   \n",
       "\n",
       "                         25-Jan-2021  27-Jan-2021  28-Jan-2021  \n",
       "            new_col                                             \n",
       "prof        prof              -51.55        -5.80       398.00  \n",
       "profP       profP             109.70       176.50        76.15  \n",
       "prof_calatm prof_calatm       -16.45       237.95    -13139.25  \n",
       "prof_calotm prof_calotm       -35.10      -243.75     13537.25  \n",
       "prof_putatm prof_putatm       114.35       113.75    -13700.40  \n",
       "prof_putotm prof_putotm        -4.65        62.75     13776.55  "
      ],
      "text/html": "<div>\n<style scoped>\n    .dataframe tbody tr th:only-of-type {\n        vertical-align: middle;\n    }\n\n    .dataframe tbody tr th {\n        vertical-align: top;\n    }\n\n    .dataframe thead th {\n        text-align: right;\n    }\n</style>\n<table border=\"1\" class=\"dataframe\">\n  <thead>\n    <tr style=\"text-align: right;\">\n      <th></th>\n      <th></th>\n      <th>01-Jan-2021</th>\n      <th>04-Jan-2021</th>\n      <th>05-Jan-2021</th>\n      <th>06-Jan-2021</th>\n      <th>07-Jan-2021</th>\n      <th>08-Jan-2021</th>\n      <th>11-Jan-2021</th>\n      <th>12-Jan-2021</th>\n      <th>13-Jan-2021</th>\n      <th>14-Jan-2021</th>\n      <th>15-Jan-2021</th>\n      <th>18-Jan-2021</th>\n      <th>19-Jan-2021</th>\n      <th>20-Jan-2021</th>\n      <th>21-Jan-2021</th>\n      <th>22-Jan-2021</th>\n      <th>25-Jan-2021</th>\n      <th>27-Jan-2021</th>\n      <th>28-Jan-2021</th>\n    </tr>\n    <tr>\n      <th></th>\n      <th>new_col</th>\n      <th></th>\n      <th></th>\n      <th></th>\n      <th></th>\n      <th></th>\n      <th></th>\n      <th></th>\n      <th></th>\n      <th></th>\n      <th></th>\n      <th></th>\n      <th></th>\n      <th></th>\n      <th></th>\n      <th></th>\n      <th></th>\n      <th></th>\n      <th></th>\n      <th></th>\n    </tr>\n  </thead>\n  <tbody>\n    <tr>\n      <td>prof</td>\n      <td>prof</td>\n      <td>0.0</td>\n      <td>28.75</td>\n      <td>10.4</td>\n      <td>9.00</td>\n      <td>3.15</td>\n      <td>-49.15</td>\n      <td>-33.35</td>\n      <td>-55.60</td>\n      <td>-43.20</td>\n      <td>-40.45</td>\n      <td>-21.55</td>\n      <td>5.10</td>\n      <td>-38.50</td>\n      <td>-97.60</td>\n      <td>-110.65</td>\n      <td>-64.10</td>\n      <td>-51.55</td>\n      <td>-5.80</td>\n      <td>398.00</td>\n    </tr>\n    <tr>\n      <td>profP</td>\n      <td>profP</td>\n      <td>236.6</td>\n      <td>207.00</td>\n      <td>194.0</td>\n      <td>201.80</td>\n      <td>196.75</td>\n      <td>156.75</td>\n      <td>141.00</td>\n      <td>125.30</td>\n      <td>121.50</td>\n      <td>113.10</td>\n      <td>135.55</td>\n      <td>156.85</td>\n      <td>104.60</td>\n      <td>90.15</td>\n      <td>96.70</td>\n      <td>113.75</td>\n      <td>109.70</td>\n      <td>176.50</td>\n      <td>76.15</td>\n    </tr>\n    <tr>\n      <td>prof_calatm</td>\n      <td>prof_calatm</td>\n      <td>0.0</td>\n      <td>-17.65</td>\n      <td>-71.7</td>\n      <td>-59.75</td>\n      <td>-45.25</td>\n      <td>-211.65</td>\n      <td>-293.05</td>\n      <td>-407.70</td>\n      <td>-380.20</td>\n      <td>-404.75</td>\n      <td>-248.35</td>\n      <td>-91.75</td>\n      <td>-313.65</td>\n      <td>-431.45</td>\n      <td>-425.20</td>\n      <td>-157.45</td>\n      <td>-16.45</td>\n      <td>237.95</td>\n      <td>-13139.25</td>\n    </tr>\n    <tr>\n      <td>prof_calotm</td>\n      <td>prof_calotm</td>\n      <td>0.0</td>\n      <td>46.40</td>\n      <td>82.1</td>\n      <td>68.75</td>\n      <td>48.40</td>\n      <td>162.50</td>\n      <td>259.70</td>\n      <td>352.10</td>\n      <td>337.00</td>\n      <td>364.30</td>\n      <td>226.80</td>\n      <td>96.85</td>\n      <td>275.15</td>\n      <td>333.85</td>\n      <td>314.55</td>\n      <td>93.35</td>\n      <td>-35.10</td>\n      <td>-243.75</td>\n      <td>13537.25</td>\n    </tr>\n    <tr>\n      <td>prof_putatm</td>\n      <td>prof_putatm</td>\n      <td>0.0</td>\n      <td>31.50</td>\n      <td>36.0</td>\n      <td>34.10</td>\n      <td>48.20</td>\n      <td>70.30</td>\n      <td>74.90</td>\n      <td>81.05</td>\n      <td>86.75</td>\n      <td>92.95</td>\n      <td>83.35</td>\n      <td>79.70</td>\n      <td>104.35</td>\n      <td>110.80</td>\n      <td>106.55</td>\n      <td>110.90</td>\n      <td>114.35</td>\n      <td>113.75</td>\n      <td>-13700.40</td>\n    </tr>\n    <tr>\n      <td>prof_putotm</td>\n      <td>prof_putotm</td>\n      <td>236.6</td>\n      <td>175.50</td>\n      <td>158.0</td>\n      <td>167.70</td>\n      <td>148.55</td>\n      <td>86.45</td>\n      <td>66.10</td>\n      <td>44.25</td>\n      <td>34.75</td>\n      <td>20.15</td>\n      <td>52.20</td>\n      <td>77.15</td>\n      <td>0.25</td>\n      <td>-20.65</td>\n      <td>-9.85</td>\n      <td>2.85</td>\n      <td>-4.65</td>\n      <td>62.75</td>\n      <td>13776.55</td>\n    </tr>\n  </tbody>\n</table>\n</div>"
     },
     "metadata": {},
     "execution_count": 242
    }
   ],
   "source": [
    "ff"
   ]
  },
  {
   "cell_type": "code",
   "execution_count": 80,
   "metadata": {},
   "outputs": [
    {
     "output_type": "error",
     "ename": "SyntaxError",
     "evalue": "invalid syntax (<ipython-input-80-725f56b3a39e>, line 1)",
     "traceback": [
      "\u001b[0;36m  File \u001b[0;32m\"<ipython-input-80-725f56b3a39e>\"\u001b[0;36m, line \u001b[0;32m1\u001b[0m\n\u001b[0;31m    hfinal.loc[(,16000)]\u001b[0m\n\u001b[0m                ^\u001b[0m\n\u001b[0;31mSyntaxError\u001b[0m\u001b[0;31m:\u001b[0m invalid syntax\n"
     ]
    }
   ],
   "source": [
    "hfinal.loc[(,16000)]"
   ]
  },
  {
   "cell_type": "code",
   "execution_count": 87,
   "metadata": {},
   "outputs": [
    {
     "output_type": "error",
     "ename": "TypeError",
     "evalue": "'FrozenList' object is not callable",
     "traceback": [
      "\u001b[0;31m---------------------------------------------------------------------------\u001b[0m",
      "\u001b[0;31mTypeError\u001b[0m                                 Traceback (most recent call last)",
      "\u001b[0;32m<ipython-input-87-297527378819>\u001b[0m in \u001b[0;36m<module>\u001b[0;34m\u001b[0m\n\u001b[0;32m----> 1\u001b[0;31m \u001b[0mhfinal\u001b[0m\u001b[0;34m.\u001b[0m\u001b[0mindex\u001b[0m\u001b[0;34m.\u001b[0m\u001b[0mnames\u001b[0m\u001b[0;34m(\u001b[0m\u001b[0;34m[\u001b[0m\u001b[0;34m'TYPE'\u001b[0m\u001b[0;34m,\u001b[0m\u001b[0;34m'STRIKE'\u001b[0m\u001b[0;34m]\u001b[0m\u001b[0;34m)\u001b[0m\u001b[0;34m\u001b[0m\u001b[0;34m\u001b[0m\u001b[0m\n\u001b[0m",
      "\u001b[0;31mTypeError\u001b[0m: 'FrozenList' object is not callable"
     ]
    }
   ],
   "source": [
    "hfinal.index.names(['TYPE','STRIKE'])"
   ]
  },
  {
   "cell_type": "code",
   "execution_count": 88,
   "metadata": {},
   "outputs": [
    {
     "output_type": "execute_result",
     "data": {
      "text/plain": [
       "            01-Jan-2021 04-Jan-2021 05-Jan-2021 06-Jan-2021 07-Jan-2021  \\\n",
       "TYPE STRIKE                                                               \n",
       "call 13350          825      864.45       949.8      898.15       884.3   \n",
       "     13400       733.65       821.3         870       837.9      838.65   \n",
       "     13450       702.15      819.35      867.05       816.4      802.75   \n",
       "     13500       654.25       738.8       786.1      761.65      750.65   \n",
       "     13550        678.3      695.95         750      738.05      723.55   \n",
       "...                 ...         ...         ...         ...         ...   \n",
       "put  15950          NaN         NaN         NaN         NaN         NaN   \n",
       "     16000          NaN         NaN         NaN         NaN         NaN   \n",
       "     16050          NaN         NaN         NaN         NaN         NaN   \n",
       "     16100          NaN         NaN         NaN         NaN         NaN   \n",
       "     16150          NaN         NaN         NaN         NaN         NaN   \n",
       "\n",
       "            08-Jan-2021 11-Jan-2021 12-Jan-2021 13-Jan-2021 14-Jan-2021  \\\n",
       "TYPE STRIKE                                                               \n",
       "call 13350       1064.1     1178.55      1249.9     1247.75     1274.35   \n",
       "     13400       1004.6        1115      1214.4     1223.75     1249.55   \n",
       "     13450       945.65     1085.55     1155.05     1152.35        1178   \n",
       "     13500        906.7     1022.45      1127.8      1133.4      1148.4   \n",
       "     13550       889.95      971.35        1086      1058.5     1083.05   \n",
       "...                 ...         ...         ...         ...         ...   \n",
       "put  15950          NaN         NaN      1369.4      1367.7      1337.8   \n",
       "     16000          NaN         NaN     1417.55      1386.3      1369.6   \n",
       "     16050          NaN         NaN         NaN     1464.65      1434.9   \n",
       "     16100          NaN         NaN         NaN         NaN         NaN   \n",
       "     16150          NaN         NaN         NaN         NaN         NaN   \n",
       "\n",
       "            15-Jan-2021 18-Jan-2021 19-Jan-2021 20-Jan-2021 21-Jan-2021  \\\n",
       "TYPE STRIKE                                                               \n",
       "call 13350      1114.25       956.7      1187.4      1307.8      1285.9   \n",
       "     13400      1083.05      914.95      1185.2        1251     1178.35   \n",
       "     13450       1047.8       862.1      1089.2     1208.55      1165.6   \n",
       "     13500       988.55       827.2     1082.35     1154.75      1119.7   \n",
       "     13550       926.65      770.05      991.95     1109.75      1103.5   \n",
       "...                 ...         ...         ...         ...         ...   \n",
       "put  15950         1496      1650.7      1413.5      1292.1      1347.3   \n",
       "     16000       1542.6     1695.05     1429.65     1353.65      1400.4   \n",
       "     16050       1594.6     1750.35     1512.85      1391.3      1446.9   \n",
       "     16100      1644.05      1800.2      1562.6     1441.05      1496.8   \n",
       "     16150          NaN         NaN         NaN         NaN     1546.65   \n",
       "\n",
       "            22-Jan-2021 25-Jan-2021 27-Jan-2021 28-Jan-2021  \n",
       "TYPE STRIKE                                                  \n",
       "call 13350      1055.95      895.05       644.2     13817.5  \n",
       "     13400        984.8      857.65      586.65     13817.5  \n",
       "     13450        917.7       779.4      534.25     13817.5  \n",
       "     13500        888.2      749.05       485.1     13817.5  \n",
       "     13550       835.75      694.75      440.35     13817.5  \n",
       "...                 ...         ...         ...         ...  \n",
       "put  15950         1567     1705.55     1980.65     13817.5  \n",
       "     16000      1620.85      1738.7      2012.8     13817.5  \n",
       "     16050       1666.9      1805.5     2080.65     13817.5  \n",
       "     16100      1716.85      1855.5     2130.65     13817.5  \n",
       "     16150      1766.85     1905.45      2180.6     13817.5  \n",
       "\n",
       "[242 rows x 19 columns]"
      ],
      "text/html": "<div>\n<style scoped>\n    .dataframe tbody tr th:only-of-type {\n        vertical-align: middle;\n    }\n\n    .dataframe tbody tr th {\n        vertical-align: top;\n    }\n\n    .dataframe thead th {\n        text-align: right;\n    }\n</style>\n<table border=\"1\" class=\"dataframe\">\n  <thead>\n    <tr style=\"text-align: right;\">\n      <th></th>\n      <th></th>\n      <th>01-Jan-2021</th>\n      <th>04-Jan-2021</th>\n      <th>05-Jan-2021</th>\n      <th>06-Jan-2021</th>\n      <th>07-Jan-2021</th>\n      <th>08-Jan-2021</th>\n      <th>11-Jan-2021</th>\n      <th>12-Jan-2021</th>\n      <th>13-Jan-2021</th>\n      <th>14-Jan-2021</th>\n      <th>15-Jan-2021</th>\n      <th>18-Jan-2021</th>\n      <th>19-Jan-2021</th>\n      <th>20-Jan-2021</th>\n      <th>21-Jan-2021</th>\n      <th>22-Jan-2021</th>\n      <th>25-Jan-2021</th>\n      <th>27-Jan-2021</th>\n      <th>28-Jan-2021</th>\n    </tr>\n    <tr>\n      <th>TYPE</th>\n      <th>STRIKE</th>\n      <th></th>\n      <th></th>\n      <th></th>\n      <th></th>\n      <th></th>\n      <th></th>\n      <th></th>\n      <th></th>\n      <th></th>\n      <th></th>\n      <th></th>\n      <th></th>\n      <th></th>\n      <th></th>\n      <th></th>\n      <th></th>\n      <th></th>\n      <th></th>\n      <th></th>\n    </tr>\n  </thead>\n  <tbody>\n    <tr>\n      <td rowspan=\"5\" valign=\"top\">call</td>\n      <td>13350</td>\n      <td>825</td>\n      <td>864.45</td>\n      <td>949.8</td>\n      <td>898.15</td>\n      <td>884.3</td>\n      <td>1064.1</td>\n      <td>1178.55</td>\n      <td>1249.9</td>\n      <td>1247.75</td>\n      <td>1274.35</td>\n      <td>1114.25</td>\n      <td>956.7</td>\n      <td>1187.4</td>\n      <td>1307.8</td>\n      <td>1285.9</td>\n      <td>1055.95</td>\n      <td>895.05</td>\n      <td>644.2</td>\n      <td>13817.5</td>\n    </tr>\n    <tr>\n      <td>13400</td>\n      <td>733.65</td>\n      <td>821.3</td>\n      <td>870</td>\n      <td>837.9</td>\n      <td>838.65</td>\n      <td>1004.6</td>\n      <td>1115</td>\n      <td>1214.4</td>\n      <td>1223.75</td>\n      <td>1249.55</td>\n      <td>1083.05</td>\n      <td>914.95</td>\n      <td>1185.2</td>\n      <td>1251</td>\n      <td>1178.35</td>\n      <td>984.8</td>\n      <td>857.65</td>\n      <td>586.65</td>\n      <td>13817.5</td>\n    </tr>\n    <tr>\n      <td>13450</td>\n      <td>702.15</td>\n      <td>819.35</td>\n      <td>867.05</td>\n      <td>816.4</td>\n      <td>802.75</td>\n      <td>945.65</td>\n      <td>1085.55</td>\n      <td>1155.05</td>\n      <td>1152.35</td>\n      <td>1178</td>\n      <td>1047.8</td>\n      <td>862.1</td>\n      <td>1089.2</td>\n      <td>1208.55</td>\n      <td>1165.6</td>\n      <td>917.7</td>\n      <td>779.4</td>\n      <td>534.25</td>\n      <td>13817.5</td>\n    </tr>\n    <tr>\n      <td>13500</td>\n      <td>654.25</td>\n      <td>738.8</td>\n      <td>786.1</td>\n      <td>761.65</td>\n      <td>750.65</td>\n      <td>906.7</td>\n      <td>1022.45</td>\n      <td>1127.8</td>\n      <td>1133.4</td>\n      <td>1148.4</td>\n      <td>988.55</td>\n      <td>827.2</td>\n      <td>1082.35</td>\n      <td>1154.75</td>\n      <td>1119.7</td>\n      <td>888.2</td>\n      <td>749.05</td>\n      <td>485.1</td>\n      <td>13817.5</td>\n    </tr>\n    <tr>\n      <td>13550</td>\n      <td>678.3</td>\n      <td>695.95</td>\n      <td>750</td>\n      <td>738.05</td>\n      <td>723.55</td>\n      <td>889.95</td>\n      <td>971.35</td>\n      <td>1086</td>\n      <td>1058.5</td>\n      <td>1083.05</td>\n      <td>926.65</td>\n      <td>770.05</td>\n      <td>991.95</td>\n      <td>1109.75</td>\n      <td>1103.5</td>\n      <td>835.75</td>\n      <td>694.75</td>\n      <td>440.35</td>\n      <td>13817.5</td>\n    </tr>\n    <tr>\n      <td>...</td>\n      <td>...</td>\n      <td>...</td>\n      <td>...</td>\n      <td>...</td>\n      <td>...</td>\n      <td>...</td>\n      <td>...</td>\n      <td>...</td>\n      <td>...</td>\n      <td>...</td>\n      <td>...</td>\n      <td>...</td>\n      <td>...</td>\n      <td>...</td>\n      <td>...</td>\n      <td>...</td>\n      <td>...</td>\n      <td>...</td>\n      <td>...</td>\n      <td>...</td>\n    </tr>\n    <tr>\n      <td rowspan=\"5\" valign=\"top\">put</td>\n      <td>15950</td>\n      <td>NaN</td>\n      <td>NaN</td>\n      <td>NaN</td>\n      <td>NaN</td>\n      <td>NaN</td>\n      <td>NaN</td>\n      <td>NaN</td>\n      <td>1369.4</td>\n      <td>1367.7</td>\n      <td>1337.8</td>\n      <td>1496</td>\n      <td>1650.7</td>\n      <td>1413.5</td>\n      <td>1292.1</td>\n      <td>1347.3</td>\n      <td>1567</td>\n      <td>1705.55</td>\n      <td>1980.65</td>\n      <td>13817.5</td>\n    </tr>\n    <tr>\n      <td>16000</td>\n      <td>NaN</td>\n      <td>NaN</td>\n      <td>NaN</td>\n      <td>NaN</td>\n      <td>NaN</td>\n      <td>NaN</td>\n      <td>NaN</td>\n      <td>1417.55</td>\n      <td>1386.3</td>\n      <td>1369.6</td>\n      <td>1542.6</td>\n      <td>1695.05</td>\n      <td>1429.65</td>\n      <td>1353.65</td>\n      <td>1400.4</td>\n      <td>1620.85</td>\n      <td>1738.7</td>\n      <td>2012.8</td>\n      <td>13817.5</td>\n    </tr>\n    <tr>\n      <td>16050</td>\n      <td>NaN</td>\n      <td>NaN</td>\n      <td>NaN</td>\n      <td>NaN</td>\n      <td>NaN</td>\n      <td>NaN</td>\n      <td>NaN</td>\n      <td>NaN</td>\n      <td>1464.65</td>\n      <td>1434.9</td>\n      <td>1594.6</td>\n      <td>1750.35</td>\n      <td>1512.85</td>\n      <td>1391.3</td>\n      <td>1446.9</td>\n      <td>1666.9</td>\n      <td>1805.5</td>\n      <td>2080.65</td>\n      <td>13817.5</td>\n    </tr>\n    <tr>\n      <td>16100</td>\n      <td>NaN</td>\n      <td>NaN</td>\n      <td>NaN</td>\n      <td>NaN</td>\n      <td>NaN</td>\n      <td>NaN</td>\n      <td>NaN</td>\n      <td>NaN</td>\n      <td>NaN</td>\n      <td>NaN</td>\n      <td>1644.05</td>\n      <td>1800.2</td>\n      <td>1562.6</td>\n      <td>1441.05</td>\n      <td>1496.8</td>\n      <td>1716.85</td>\n      <td>1855.5</td>\n      <td>2130.65</td>\n      <td>13817.5</td>\n    </tr>\n    <tr>\n      <td>16150</td>\n      <td>NaN</td>\n      <td>NaN</td>\n      <td>NaN</td>\n      <td>NaN</td>\n      <td>NaN</td>\n      <td>NaN</td>\n      <td>NaN</td>\n      <td>NaN</td>\n      <td>NaN</td>\n      <td>NaN</td>\n      <td>NaN</td>\n      <td>NaN</td>\n      <td>NaN</td>\n      <td>NaN</td>\n      <td>1546.65</td>\n      <td>1766.85</td>\n      <td>1905.45</td>\n      <td>2180.6</td>\n      <td>13817.5</td>\n    </tr>\n  </tbody>\n</table>\n<p>242 rows × 19 columns</p>\n</div>"
     },
     "metadata": {},
     "execution_count": 88
    }
   ],
   "source": [
    "hfinal.rename_axis(['TYPE','STRIKE'])"
   ]
  },
  {
   "cell_type": "code",
   "execution_count": 210,
   "metadata": {},
   "outputs": [],
   "source": [
    "ff['new_col'] = range(1, len(jj) + 1)\n",
    "ff['new_col']=ff.index\n",
    "ff=ff.set_index('new_col',append=True).sort_index()"
   ]
  },
  {
   "cell_type": "code",
   "execution_count": null,
   "metadata": {},
   "outputs": [],
   "source": []
  },
  {
   "cell_type": "code",
   "execution_count": null,
   "metadata": {},
   "outputs": [],
   "source": [
    "checks after that"
   ]
  },
  {
   "cell_type": "code",
   "execution_count": 90,
   "metadata": {},
   "outputs": [
    {
     "output_type": "error",
     "ename": "KeyError",
     "evalue": "\"None of ['TYPE', 'STRIKE'] are in the columns\"",
     "traceback": [
      "\u001b[0;31m---------------------------------------------------------------------------\u001b[0m",
      "\u001b[0;31mKeyError\u001b[0m                                  Traceback (most recent call last)",
      "\u001b[0;32m<ipython-input-90-be94e3dc0ce8>\u001b[0m in \u001b[0;36m<module>\u001b[0;34m\u001b[0m\n\u001b[0;32m----> 1\u001b[0;31m \u001b[0mhfinal\u001b[0m\u001b[0;34m.\u001b[0m\u001b[0mset_index\u001b[0m\u001b[0;34m(\u001b[0m\u001b[0;34m[\u001b[0m\u001b[0;34m'TYPE'\u001b[0m\u001b[0;34m,\u001b[0m\u001b[0;34m'STRIKE'\u001b[0m\u001b[0;34m]\u001b[0m\u001b[0;34m)\u001b[0m\u001b[0;34m.\u001b[0m\u001b[0msort_index\u001b[0m\u001b[0;34m(\u001b[0m\u001b[0;34m)\u001b[0m\u001b[0;34m\u001b[0m\u001b[0;34m\u001b[0m\u001b[0m\n\u001b[0m",
      "\u001b[0;32m/opt/anaconda3/lib/python3.7/site-packages/pandas/core/frame.py\u001b[0m in \u001b[0;36mset_index\u001b[0;34m(self, keys, drop, append, inplace, verify_integrity)\u001b[0m\n\u001b[1;32m   4394\u001b[0m \u001b[0;34m\u001b[0m\u001b[0m\n\u001b[1;32m   4395\u001b[0m         \u001b[0;32mif\u001b[0m \u001b[0mmissing\u001b[0m\u001b[0;34m:\u001b[0m\u001b[0;34m\u001b[0m\u001b[0;34m\u001b[0m\u001b[0m\n\u001b[0;32m-> 4396\u001b[0;31m             \u001b[0;32mraise\u001b[0m \u001b[0mKeyError\u001b[0m\u001b[0;34m(\u001b[0m\u001b[0;34m\"None of {} are in the columns\"\u001b[0m\u001b[0;34m.\u001b[0m\u001b[0mformat\u001b[0m\u001b[0;34m(\u001b[0m\u001b[0mmissing\u001b[0m\u001b[0;34m)\u001b[0m\u001b[0;34m)\u001b[0m\u001b[0;34m\u001b[0m\u001b[0;34m\u001b[0m\u001b[0m\n\u001b[0m\u001b[1;32m   4397\u001b[0m \u001b[0;34m\u001b[0m\u001b[0m\n\u001b[1;32m   4398\u001b[0m         \u001b[0;32mif\u001b[0m \u001b[0minplace\u001b[0m\u001b[0;34m:\u001b[0m\u001b[0;34m\u001b[0m\u001b[0;34m\u001b[0m\u001b[0m\n",
      "\u001b[0;31mKeyError\u001b[0m: \"None of ['TYPE', 'STRIKE'] are in the columns\""
     ]
    }
   ],
   "source": [
    "hfinal.set_index(['TYPE','STRIKE']).sort_index()"
   ]
  },
  {
   "cell_type": "code",
   "execution_count": 107,
   "metadata": {},
   "outputs": [
    {
     "output_type": "execute_result",
     "data": {
      "text/plain": [
       "           01-Jan-2021 04-Jan-2021 05-Jan-2021 06-Jan-2021 07-Jan-2021  \\\n",
       "call 16000         NaN         NaN         NaN         NaN         NaN   \n",
       "put  16000         NaN         NaN         NaN         NaN         NaN   \n",
       "\n",
       "           08-Jan-2021 11-Jan-2021 12-Jan-2021 13-Jan-2021 14-Jan-2021  \\\n",
       "call 16000         NaN         NaN       10.75         4.8        3.85   \n",
       "put  16000         NaN         NaN     1417.55      1386.3      1369.6   \n",
       "\n",
       "           15-Jan-2021 18-Jan-2021 19-Jan-2021 20-Jan-2021 21-Jan-2021  \\\n",
       "call 16000         4.7         4.6         2.5         1.5         1.6   \n",
       "put  16000      1542.6     1695.05     1429.65     1353.65      1400.4   \n",
       "\n",
       "           22-Jan-2021 25-Jan-2021 27-Jan-2021 28-Jan-2021  \n",
       "call 16000         3.1        2.15         1.4     13817.5  \n",
       "put  16000     1620.85      1738.7      2012.8     13817.5  "
      ],
      "text/html": "<div>\n<style scoped>\n    .dataframe tbody tr th:only-of-type {\n        vertical-align: middle;\n    }\n\n    .dataframe tbody tr th {\n        vertical-align: top;\n    }\n\n    .dataframe thead th {\n        text-align: right;\n    }\n</style>\n<table border=\"1\" class=\"dataframe\">\n  <thead>\n    <tr style=\"text-align: right;\">\n      <th></th>\n      <th></th>\n      <th>01-Jan-2021</th>\n      <th>04-Jan-2021</th>\n      <th>05-Jan-2021</th>\n      <th>06-Jan-2021</th>\n      <th>07-Jan-2021</th>\n      <th>08-Jan-2021</th>\n      <th>11-Jan-2021</th>\n      <th>12-Jan-2021</th>\n      <th>13-Jan-2021</th>\n      <th>14-Jan-2021</th>\n      <th>15-Jan-2021</th>\n      <th>18-Jan-2021</th>\n      <th>19-Jan-2021</th>\n      <th>20-Jan-2021</th>\n      <th>21-Jan-2021</th>\n      <th>22-Jan-2021</th>\n      <th>25-Jan-2021</th>\n      <th>27-Jan-2021</th>\n      <th>28-Jan-2021</th>\n    </tr>\n  </thead>\n  <tbody>\n    <tr>\n      <td>call</td>\n      <td>16000</td>\n      <td>NaN</td>\n      <td>NaN</td>\n      <td>NaN</td>\n      <td>NaN</td>\n      <td>NaN</td>\n      <td>NaN</td>\n      <td>NaN</td>\n      <td>10.75</td>\n      <td>4.8</td>\n      <td>3.85</td>\n      <td>4.7</td>\n      <td>4.6</td>\n      <td>2.5</td>\n      <td>1.5</td>\n      <td>1.6</td>\n      <td>3.1</td>\n      <td>2.15</td>\n      <td>1.4</td>\n      <td>13817.5</td>\n    </tr>\n    <tr>\n      <td>put</td>\n      <td>16000</td>\n      <td>NaN</td>\n      <td>NaN</td>\n      <td>NaN</td>\n      <td>NaN</td>\n      <td>NaN</td>\n      <td>NaN</td>\n      <td>NaN</td>\n      <td>1417.55</td>\n      <td>1386.3</td>\n      <td>1369.6</td>\n      <td>1542.6</td>\n      <td>1695.05</td>\n      <td>1429.65</td>\n      <td>1353.65</td>\n      <td>1400.4</td>\n      <td>1620.85</td>\n      <td>1738.7</td>\n      <td>2012.8</td>\n      <td>13817.5</td>\n    </tr>\n  </tbody>\n</table>\n</div>"
     },
     "metadata": {},
     "execution_count": 107
    }
   ],
   "source": [
    "hfinal.loc[(['call','put'],[16000,17000]),:]"
   ]
  }
 ]
}